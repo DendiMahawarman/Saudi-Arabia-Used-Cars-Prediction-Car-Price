{
 "cells": [
  {
   "cell_type": "markdown",
   "id": "ce6e65df",
   "metadata": {},
   "source": [
    "## Saudi Arabia Used Cars"
   ]
  },
  {
   "cell_type": "markdown",
   "id": "75e99f0b",
   "metadata": {},
   "source": [
    "https://www.kaggle.com/datasets/turkibintalib/saudi-arabia-used-cars-dataset"
   ]
  },
  {
   "cell_type": "markdown",
   "id": "ac2884cb",
   "metadata": {},
   "source": [
    "### Contents\n",
    "\n",
    "1. Business Problem Understanding\n",
    "2. Data Understanding / EDA\n",
    "3. Data Preprocessing\n",
    "4. Modeling\n",
    "5. Conclusion\n",
    "6. Recommendation"
   ]
  },
  {
   "cell_type": "markdown",
   "id": "e35ced0d",
   "metadata": {},
   "source": [
    "### Business Problem Understanding"
   ]
  },
  {
   "cell_type": "markdown",
   "id": "689921f4",
   "metadata": {},
   "source": [
    "#### Context\n",
    "\n",
    "syarah company merupakan perusahaan yang bergerak dalam bidang jual beli mobil yang berlokasi Riyadh, Ar Riyad, Saudi Arabia dan merupakan bagian dari Taxi and Limousine Service Industry. syarah company menawarkan pengalaman yang berbeda dalam melakukan jual beli mobil melalui digital platform yaitu syarah.com. syarah.com sudah beroperasi sejak tahun 2015 dengan wilayah operasinya tersebar di saudi arabia dan telah melakukan penjualan senilai $835,725.\n",
    "\n",
    "syarah.com menawarkan berbagai jenis mobil sesuai kebutuhan pelanggan. Pelanggan dapat memilih mobil sesuai keinginannya dengan mencocokkan spesifikasi yang diinginkan dan harga yang sesuai dengan yang dimiliki pelanggan. Pada web syarah.com telah disediakan banyak fitur dari setiap pilihan mobil seperti brand name, model, manufacturing year, origin, the color of the car, options, capacity of the engine, type of fuel, transmission type, the mileage that the car covered, region price, and negotiable. Tentu saja harga sebuah mobil akan ditentukan oleh berbagai fitur yang ada tersebut. Semakin tinggi spesifikasi seperti kondisi mobil sehat, usia mobil tergolong muda, fitur mobil sudah modern teknologi tentu saja akan semakin mahal. Penentuan harga mobil menjadi penting bagi perusahaan agar dapat menarik banyak perhatian pembeli, jangan sampai mobil dengan spesifikasi biasa saja dijual dengan harga yang mahal. Karena pada umumnya pelanggan dengan kategori kelas menengah hingga bawah yang dilihat pertama yaitu harganya baru spesifikasi menyesuaikan, berbeda dengan kelas atas yang melihat mobil dari spesifikasi dan subjektif kesukaan baru harga menyesuaikan. Penetapan harga ini menjadi sangat krusial bagi perusahaan karena akan berdampak langsung pada pendapatan perusahaan kedepannya."
   ]
  },
  {
   "cell_type": "markdown",
   "id": "73ea47b0",
   "metadata": {},
   "source": [
    "#### Problem Statement\n",
    "\n",
    "Salah satu permasalahan yang dapat berdampak langsung pada pendapatan perusahaan yaitu pemecahan masalah untuk dapat memiliki model bisnis dapat memberikan dampak positif terhadap kinerja keuangan perusahaan serta memberikan pengalaman yang baik terhadap pelanggan yang ingin membeli mobil sesuai kebutuhannya.\n",
    "\n",
    "Dengan banyaknya pilihan mobil dengan berbagai spesifikasi dan kondisi, diharapkan perusahaan mampu memiliki model bisnis yang dapat menentukan harga mobil yang kompetitif di pasaran agar banyak pelanggan yang tertarik untuk membeli mobil pada perusahaan ini. Selain itu pelanggan juga diberikan kemudahan dalam mencari pilihan mobil yang diinginkan sesuai spesifikasi dan harganya. Kemudahan dan harga yang kompetitif inilah yang dapat meningkatkan jumlah pelanggan dan tentu saja dapat meningkatkan pendapatan perusahaan."
   ]
  },
  {
   "cell_type": "markdown",
   "id": "d4503ee6",
   "metadata": {},
   "source": [
    "#### Goals\n",
    "\n",
    "Berdasarkan permasalahan tersebut, syarah company harus memiliki tools yang dapat memprediksi harga mobil sesuai spesifikasi yang diinginkan pelanggan dan membantu pelanggan untuk dapat menemukan mobil impian mereka sesuai dengan spesifikasi dan harga yang sesuai dengan kebutuhan pelanggan. Variabel - variabel yang dapat berpengaruh pada harga mobil yaitu seperti merk mobil, tipe mobil, gear type, asal mobil, tahun mobil, jarak tempuh, hingga engine size diharapkan dapat memberikan akurasi yang baik dalam menentukan harga mobil, yang mana dapat memberikan harga yang kompetitif di pasaran yang terjangkau bagi pelanggan namun tetap menguntungkan bagi perusahaan."
   ]
  },
  {
   "cell_type": "markdown",
   "id": "55bdaf2a",
   "metadata": {},
   "source": [
    "#### Analytic Approach\n",
    "\n",
    "Yang perlu dilakukan yaitu membuat prediksi berdasarkan analisis dari data yang ada dengan menemukan pola dari fitur - fitur yang ada pada data, yang membedakan suatu mobil dengan mobil lainnya. Selanjutnya akan dibangun model regresi untk membantu perusahaan sebagai tools untuk memprediksi harga mobil sesuai spesifikasi yang ada, sehingga dapat menguntungkan perusahaan dalam menjual mobil dan pelanggan dalam mencari mobil sesuai kebutuhan. "
   ]
  },
  {
   "cell_type": "markdown",
   "id": "9ddbd07b",
   "metadata": {},
   "source": [
    "#### Metric Evaluation\n",
    "\n",
    "Evaluasi metrik yang akan digunakan adalah RMSE, MAE, dan MAPE, di mana : \n",
    "1. RMSE adalah nilai rataan akar kuadrat dari error, \n",
    "2. MAE adalah rataan nilai absolut dari error, \n",
    "3. MAPE adalah rataan persentase error yang dihasilkan oleh model regresi. \n",
    "\n",
    "Semakin kecil nilai RMSE, MAE, dan MAPE yang dihasilkan, berarti model semakin akurat dalam memprediksi harga mobil sesuai dengan limitasi fitur yang digunakan.\n",
    "\n",
    "Selain itu, kita juga bisa menggunakan nilai R-squared atau adj. R-squared jika model yang nanti terpilih sebagai final model adalah model linear. \n",
    "\n",
    "Nilai R-squared digunakan untuk mengetahui seberapa baik model dapat merepresentasikan varians keseluruhan data. Semakin mendekati 1, maka semakin fit pula modelnya terhadap data observasi. Namun, metrik ini tidak valid untuk model non-linear."
   ]
  },
  {
   "cell_type": "markdown",
   "id": "b2e10b65",
   "metadata": {},
   "source": [
    "### Data Understanding"
   ]
  },
  {
   "cell_type": "markdown",
   "id": "a7ebcf60",
   "metadata": {},
   "source": [
    "- Dataset merupakan data listing Harga Mobil dari syarah.com di Saudi Arabia.\n",
    "- Setiap baris data merepresentasikan informasi terkait informasi spesifikasi mobil hingga harga mobil.\n",
    "\n",
    "**Attributes Information**\n",
    "\n",
    "| **Attribute** | **Data Type** | **Description** |\n",
    "| --- | --- | --- |\n",
    "| Type | Object | Name of a car product |\n",
    "| Region | Object | The region in which the used car was offered for sale |\n",
    "| Make | Object | Name of the car company |\n",
    "| Gear_Type | Object | Gear type size of used car (Automatic / Manual) |\n",
    "| Origin | Object | Country of importer (Gulf / Saudi / Other) |\n",
    "| Options | Object | Options of used car (Full Options / Semi-Full / Standard) |\n",
    "| Year | Integer | Year of Manufacturing |\n",
    "| Engine_Size | Float | The engine size of used car |\n",
    "| Mileage | Integer | The average distance that a vehicle can travel on (in km) |\n",
    "| Negotiable | Boolean | True if the price is 0, that means it's negotiable (No set price) |\n",
    "| Price | Integer | Used car price in SAR |\n",
    "\n",
    "<br>\n",
    "\n",
    "Price akan menjadi label / target kolom yang akan di prediksi (dependent variable), kolom lain akan menjadi predictor variabel / independent variable yang akan memprediksi Price."
   ]
  },
  {
   "cell_type": "code",
   "execution_count": 744,
   "id": "1b06f805",
   "metadata": {},
   "outputs": [],
   "source": [
    "#Import library untuk eksplorasi dataset\n",
    "import pandas as pd \n",
    "import numpy as np\n",
    "import matplotlib.pyplot as plt\n",
    "import seaborn as sns\n",
    "\n",
    "import warnings\n",
    "warnings.filterwarnings('ignore')"
   ]
  },
  {
   "cell_type": "code",
   "execution_count": 745,
   "id": "489a4f2c",
   "metadata": {},
   "outputs": [
    {
     "data": {
      "text/html": [
       "<div>\n",
       "<style scoped>\n",
       "    .dataframe tbody tr th:only-of-type {\n",
       "        vertical-align: middle;\n",
       "    }\n",
       "\n",
       "    .dataframe tbody tr th {\n",
       "        vertical-align: top;\n",
       "    }\n",
       "\n",
       "    .dataframe thead th {\n",
       "        text-align: right;\n",
       "    }\n",
       "</style>\n",
       "<table border=\"1\" class=\"dataframe\">\n",
       "  <thead>\n",
       "    <tr style=\"text-align: right;\">\n",
       "      <th></th>\n",
       "      <th>Type</th>\n",
       "      <th>Region</th>\n",
       "      <th>Make</th>\n",
       "      <th>Gear_Type</th>\n",
       "      <th>Origin</th>\n",
       "      <th>Options</th>\n",
       "      <th>Year</th>\n",
       "      <th>Engine_Size</th>\n",
       "      <th>Mileage</th>\n",
       "      <th>Negotiable</th>\n",
       "      <th>Price</th>\n",
       "    </tr>\n",
       "  </thead>\n",
       "  <tbody>\n",
       "    <tr>\n",
       "      <th>0</th>\n",
       "      <td>Corolla</td>\n",
       "      <td>Abha</td>\n",
       "      <td>Toyota</td>\n",
       "      <td>Manual</td>\n",
       "      <td>Saudi</td>\n",
       "      <td>Standard</td>\n",
       "      <td>2013</td>\n",
       "      <td>1.4</td>\n",
       "      <td>421000</td>\n",
       "      <td>True</td>\n",
       "      <td>0</td>\n",
       "    </tr>\n",
       "    <tr>\n",
       "      <th>1</th>\n",
       "      <td>Yukon</td>\n",
       "      <td>Riyadh</td>\n",
       "      <td>GMC</td>\n",
       "      <td>Automatic</td>\n",
       "      <td>Saudi</td>\n",
       "      <td>Full</td>\n",
       "      <td>2014</td>\n",
       "      <td>8.0</td>\n",
       "      <td>80000</td>\n",
       "      <td>False</td>\n",
       "      <td>120000</td>\n",
       "    </tr>\n",
       "    <tr>\n",
       "      <th>2</th>\n",
       "      <td>Range Rover</td>\n",
       "      <td>Riyadh</td>\n",
       "      <td>Land Rover</td>\n",
       "      <td>Automatic</td>\n",
       "      <td>Gulf Arabic</td>\n",
       "      <td>Full</td>\n",
       "      <td>2015</td>\n",
       "      <td>5.0</td>\n",
       "      <td>140000</td>\n",
       "      <td>False</td>\n",
       "      <td>260000</td>\n",
       "    </tr>\n",
       "    <tr>\n",
       "      <th>3</th>\n",
       "      <td>Optima</td>\n",
       "      <td>Hafar Al-Batin</td>\n",
       "      <td>Kia</td>\n",
       "      <td>Automatic</td>\n",
       "      <td>Saudi</td>\n",
       "      <td>Semi Full</td>\n",
       "      <td>2015</td>\n",
       "      <td>2.4</td>\n",
       "      <td>220000</td>\n",
       "      <td>False</td>\n",
       "      <td>42000</td>\n",
       "    </tr>\n",
       "    <tr>\n",
       "      <th>4</th>\n",
       "      <td>FJ</td>\n",
       "      <td>Riyadh</td>\n",
       "      <td>Toyota</td>\n",
       "      <td>Automatic</td>\n",
       "      <td>Saudi</td>\n",
       "      <td>Full</td>\n",
       "      <td>2020</td>\n",
       "      <td>4.0</td>\n",
       "      <td>49000</td>\n",
       "      <td>True</td>\n",
       "      <td>0</td>\n",
       "    </tr>\n",
       "  </tbody>\n",
       "</table>\n",
       "</div>"
      ],
      "text/plain": [
       "          Type          Region        Make  Gear_Type       Origin    Options  \\\n",
       "0      Corolla            Abha      Toyota     Manual        Saudi   Standard   \n",
       "1        Yukon          Riyadh         GMC  Automatic        Saudi       Full   \n",
       "2  Range Rover          Riyadh  Land Rover  Automatic  Gulf Arabic       Full   \n",
       "3       Optima  Hafar Al-Batin         Kia  Automatic        Saudi  Semi Full   \n",
       "4           FJ          Riyadh      Toyota  Automatic        Saudi       Full   \n",
       "\n",
       "   Year  Engine_Size  Mileage  Negotiable   Price  \n",
       "0  2013          1.4   421000        True       0  \n",
       "1  2014          8.0    80000       False  120000  \n",
       "2  2015          5.0   140000       False  260000  \n",
       "3  2015          2.4   220000       False   42000  \n",
       "4  2020          4.0    49000        True       0  "
      ]
     },
     "execution_count": 745,
     "metadata": {},
     "output_type": "execute_result"
    }
   ],
   "source": [
    "#Load dataset\n",
    "df = pd.read_csv('data_saudi_used_cars.csv')\n",
    "df.head()"
   ]
  },
  {
   "cell_type": "code",
   "execution_count": 746,
   "id": "d0c42bf2",
   "metadata": {},
   "outputs": [
    {
     "name": "stdout",
     "output_type": "stream",
     "text": [
      "<class 'pandas.core.frame.DataFrame'>\n",
      "RangeIndex: 5624 entries, 0 to 5623\n",
      "Data columns (total 11 columns):\n",
      " #   Column       Non-Null Count  Dtype  \n",
      "---  ------       --------------  -----  \n",
      " 0   Type         5624 non-null   object \n",
      " 1   Region       5624 non-null   object \n",
      " 2   Make         5624 non-null   object \n",
      " 3   Gear_Type    5624 non-null   object \n",
      " 4   Origin       5624 non-null   object \n",
      " 5   Options      5624 non-null   object \n",
      " 6   Year         5624 non-null   int64  \n",
      " 7   Engine_Size  5624 non-null   float64\n",
      " 8   Mileage      5624 non-null   int64  \n",
      " 9   Negotiable   5624 non-null   bool   \n",
      " 10  Price        5624 non-null   int64  \n",
      "dtypes: bool(1), float64(1), int64(3), object(6)\n",
      "memory usage: 445.0+ KB\n"
     ]
    }
   ],
   "source": [
    "# Check datatype for each variable\n",
    "df.info()"
   ]
  },
  {
   "cell_type": "markdown",
   "id": "be758c2f",
   "metadata": {},
   "source": [
    "### Data Preprocessing"
   ]
  },
  {
   "cell_type": "markdown",
   "id": "14f425ce",
   "metadata": {},
   "source": [
    "Pada tahap ini, akan dilakukan cleaning pada data untuk kebutuhan proses analisis selanjutnya. Beberapa hal yang perlu dilakukan adalah:\n",
    "1. Melakukan pengecekan terhadap duplikat data, missing value, dan drop fitur yang tidak memiliki relevansi terhadap permasalahan yang sedang dihadapi.\n",
    "2. Melakukan treatment terhadap missing value jika ada. Bisa dengan cara men-drop fiturnya jika memang tidak dibutuhkan atau bisa juga dengan mengimputasi dengan nilai yang paling masuk akal berdasarkan kasusnya."
   ]
  },
  {
   "cell_type": "code",
   "execution_count": 747,
   "id": "aa1c8956",
   "metadata": {},
   "outputs": [
    {
     "name": "stdout",
     "output_type": "stream",
     "text": [
      "Number of duplicate rows:  4\n"
     ]
    }
   ],
   "source": [
    "# Check duplicate data\n",
    "print(\"Number of duplicate rows: \", sum(df.duplicated()))"
   ]
  },
  {
   "cell_type": "code",
   "execution_count": 748,
   "id": "60b55166",
   "metadata": {},
   "outputs": [
    {
     "name": "stdout",
     "output_type": "stream",
     "text": [
      "Number of duplicate rows:  0\n"
     ]
    }
   ],
   "source": [
    "# Drop duplicate data\n",
    "df.drop_duplicates(inplace=True)\n",
    "\n",
    "# Cehck duplicate data\n",
    "print(\"Number of duplicate rows: \", sum(df.duplicated()))"
   ]
  },
  {
   "cell_type": "code",
   "execution_count": 749,
   "id": "733d1c31",
   "metadata": {},
   "outputs": [
    {
     "data": {
      "text/plain": [
       "Type           0\n",
       "Region         0\n",
       "Make           0\n",
       "Gear_Type      0\n",
       "Origin         0\n",
       "Options        0\n",
       "Year           0\n",
       "Engine_Size    0\n",
       "Mileage        0\n",
       "Negotiable     0\n",
       "Price          0\n",
       "dtype: int64"
      ]
     },
     "execution_count": 749,
     "metadata": {},
     "output_type": "execute_result"
    }
   ],
   "source": [
    "# Check missing value\n",
    "df.isnull().sum()"
   ]
  },
  {
   "cell_type": "code",
   "execution_count": 750,
   "id": "56a88615",
   "metadata": {},
   "outputs": [
    {
     "name": "stdout",
     "output_type": "stream",
     "text": [
      "<class 'pandas.core.frame.DataFrame'>\n",
      "Int64Index: 5620 entries, 0 to 5623\n",
      "Data columns (total 11 columns):\n",
      " #   Column       Non-Null Count  Dtype  \n",
      "---  ------       --------------  -----  \n",
      " 0   Type         5620 non-null   object \n",
      " 1   Region       5620 non-null   object \n",
      " 2   Make         5620 non-null   object \n",
      " 3   Gear_Type    5620 non-null   object \n",
      " 4   Origin       5620 non-null   object \n",
      " 5   Options      5620 non-null   object \n",
      " 6   Year         5620 non-null   int64  \n",
      " 7   Engine_Size  5620 non-null   float64\n",
      " 8   Mileage      5620 non-null   int64  \n",
      " 9   Negotiable   5620 non-null   bool   \n",
      " 10  Price        5620 non-null   int64  \n",
      "dtypes: bool(1), float64(1), int64(3), object(6)\n",
      "memory usage: 488.5+ KB\n"
     ]
    }
   ],
   "source": [
    "# Check datatype\n",
    "df.info()"
   ]
  },
  {
   "cell_type": "code",
   "execution_count": 751,
   "id": "9a05fce4",
   "metadata": {},
   "outputs": [
    {
     "data": {
      "text/html": [
       "<div>\n",
       "<style scoped>\n",
       "    .dataframe tbody tr th:only-of-type {\n",
       "        vertical-align: middle;\n",
       "    }\n",
       "\n",
       "    .dataframe tbody tr th {\n",
       "        vertical-align: top;\n",
       "    }\n",
       "\n",
       "    .dataframe thead th {\n",
       "        text-align: right;\n",
       "    }\n",
       "</style>\n",
       "<table border=\"1\" class=\"dataframe\">\n",
       "  <thead>\n",
       "    <tr style=\"text-align: right;\">\n",
       "      <th></th>\n",
       "      <th>dataFeatures</th>\n",
       "      <th>dataType</th>\n",
       "      <th>null</th>\n",
       "      <th>nullPct</th>\n",
       "      <th>unique</th>\n",
       "      <th>uniqueSample</th>\n",
       "    </tr>\n",
       "  </thead>\n",
       "  <tbody>\n",
       "    <tr>\n",
       "      <th>0</th>\n",
       "      <td>Type</td>\n",
       "      <td>object</td>\n",
       "      <td>0</td>\n",
       "      <td>0.0</td>\n",
       "      <td>347</td>\n",
       "      <td>[Golf, Avalanche]</td>\n",
       "    </tr>\n",
       "    <tr>\n",
       "      <th>1</th>\n",
       "      <td>Region</td>\n",
       "      <td>object</td>\n",
       "      <td>0</td>\n",
       "      <td>0.0</td>\n",
       "      <td>27</td>\n",
       "      <td>[Al-Baha, Wadi Dawasir]</td>\n",
       "    </tr>\n",
       "    <tr>\n",
       "      <th>2</th>\n",
       "      <td>Make</td>\n",
       "      <td>object</td>\n",
       "      <td>0</td>\n",
       "      <td>0.0</td>\n",
       "      <td>58</td>\n",
       "      <td>[Renault, Toyota]</td>\n",
       "    </tr>\n",
       "    <tr>\n",
       "      <th>3</th>\n",
       "      <td>Gear_Type</td>\n",
       "      <td>object</td>\n",
       "      <td>0</td>\n",
       "      <td>0.0</td>\n",
       "      <td>2</td>\n",
       "      <td>[Manual, Automatic]</td>\n",
       "    </tr>\n",
       "    <tr>\n",
       "      <th>4</th>\n",
       "      <td>Origin</td>\n",
       "      <td>object</td>\n",
       "      <td>0</td>\n",
       "      <td>0.0</td>\n",
       "      <td>4</td>\n",
       "      <td>[Unknown, Other]</td>\n",
       "    </tr>\n",
       "    <tr>\n",
       "      <th>5</th>\n",
       "      <td>Options</td>\n",
       "      <td>object</td>\n",
       "      <td>0</td>\n",
       "      <td>0.0</td>\n",
       "      <td>3</td>\n",
       "      <td>[Semi Full, Standard]</td>\n",
       "    </tr>\n",
       "    <tr>\n",
       "      <th>6</th>\n",
       "      <td>Year</td>\n",
       "      <td>int64</td>\n",
       "      <td>0</td>\n",
       "      <td>0.0</td>\n",
       "      <td>50</td>\n",
       "      <td>[2007, 1980]</td>\n",
       "    </tr>\n",
       "    <tr>\n",
       "      <th>7</th>\n",
       "      <td>Engine_Size</td>\n",
       "      <td>float64</td>\n",
       "      <td>0</td>\n",
       "      <td>0.0</td>\n",
       "      <td>71</td>\n",
       "      <td>[4.6, 6.0]</td>\n",
       "    </tr>\n",
       "    <tr>\n",
       "      <th>8</th>\n",
       "      <td>Mileage</td>\n",
       "      <td>int64</td>\n",
       "      <td>0</td>\n",
       "      <td>0.0</td>\n",
       "      <td>1716</td>\n",
       "      <td>[168000, 329000]</td>\n",
       "    </tr>\n",
       "    <tr>\n",
       "      <th>9</th>\n",
       "      <td>Negotiable</td>\n",
       "      <td>bool</td>\n",
       "      <td>0</td>\n",
       "      <td>0.0</td>\n",
       "      <td>2</td>\n",
       "      <td>[True, False]</td>\n",
       "    </tr>\n",
       "    <tr>\n",
       "      <th>10</th>\n",
       "      <td>Price</td>\n",
       "      <td>int64</td>\n",
       "      <td>0</td>\n",
       "      <td>0.0</td>\n",
       "      <td>467</td>\n",
       "      <td>[57000, 56600]</td>\n",
       "    </tr>\n",
       "  </tbody>\n",
       "</table>\n",
       "</div>"
      ],
      "text/plain": [
       "   dataFeatures dataType  null  nullPct  unique             uniqueSample\n",
       "0          Type   object     0      0.0     347        [Golf, Avalanche]\n",
       "1        Region   object     0      0.0      27  [Al-Baha, Wadi Dawasir]\n",
       "2          Make   object     0      0.0      58        [Renault, Toyota]\n",
       "3     Gear_Type   object     0      0.0       2      [Manual, Automatic]\n",
       "4        Origin   object     0      0.0       4         [Unknown, Other]\n",
       "5       Options   object     0      0.0       3    [Semi Full, Standard]\n",
       "6          Year    int64     0      0.0      50             [2007, 1980]\n",
       "7   Engine_Size  float64     0      0.0      71               [4.6, 6.0]\n",
       "8       Mileage    int64     0      0.0    1716         [168000, 329000]\n",
       "9    Negotiable     bool     0      0.0       2            [True, False]\n",
       "10        Price    int64     0      0.0     467           [57000, 56600]"
      ]
     },
     "execution_count": 751,
     "metadata": {},
     "output_type": "execute_result"
    }
   ],
   "source": [
    "# Cek info lebih detail untuk setiap fitur\n",
    "listItem = []\n",
    "\n",
    "for col in df.columns:\n",
    "    listItem.append([col, df[col].dtype, df[col].isna().sum(), round((df[col].isna().sum()/len(df[col]))*100, 2),\n",
    "                    df[col].nunique(), list(df[col].drop_duplicates().sample(2).values)]);\n",
    "\n",
    "df_desc = pd.DataFrame(columns=['dataFeatures', 'dataType', 'null', 'nullPct', 'unique', 'uniqueSample'],\n",
    "                     data=listItem)\n",
    "df_desc"
   ]
  },
  {
   "cell_type": "code",
   "execution_count": 752,
   "id": "a50b5091",
   "metadata": {},
   "outputs": [
    {
     "data": {
      "image/png": "[encoded data removed]",
      "text/plain": [
       "<Figure size 1224x576 with 1 Axes>"
      ]
     },
     "metadata": {
      "needs_background": "light"
     },
     "output_type": "display_data"
    }
   ],
   "source": [
    "# Missing value heatmap\n",
    "sns.heatmap(df.isnull(), cbar=False);"
   ]
  },
  {
   "cell_type": "markdown",
   "id": "1345c52f",
   "metadata": {},
   "source": [
    "#### Dropping irrelevant columns"
   ]
  },
  {
   "cell_type": "markdown",
   "id": "9bf8e3f6",
   "metadata": {},
   "source": [
    "Terdapat beberapa pertimbangan dalam melakukan drop kolom. Untuk mengetahui kolom mana saja yang akan di drop, kita menggunakan domain knowledge untuk memutuskan fitur mana saja yang dirasa tidak relevan. \n",
    "\n",
    "Berdasarkan domain knowledge kolom 'Negotiable' tidak memiliki relevansi dan kepentingan untuk analisis prediktif. kolom 'Negotiable' tidak diperlukan karena hanya menerangkan status mobil apakah harganya masih bisa nego atau tidak dan tidak berpengaruh signifikan terhadap harga mobil."
   ]
  },
  {
   "cell_type": "code",
   "execution_count": 753,
   "id": "2aea3320",
   "metadata": {
    "scrolled": true
   },
   "outputs": [
    {
     "data": {
      "text/html": [
       "<div>\n",
       "<style scoped>\n",
       "    .dataframe tbody tr th:only-of-type {\n",
       "        vertical-align: middle;\n",
       "    }\n",
       "\n",
       "    .dataframe tbody tr th {\n",
       "        vertical-align: top;\n",
       "    }\n",
       "\n",
       "    .dataframe thead th {\n",
       "        text-align: right;\n",
       "    }\n",
       "</style>\n",
       "<table border=\"1\" class=\"dataframe\">\n",
       "  <thead>\n",
       "    <tr style=\"text-align: right;\">\n",
       "      <th></th>\n",
       "      <th>Type</th>\n",
       "      <th>Region</th>\n",
       "      <th>Make</th>\n",
       "      <th>Gear_Type</th>\n",
       "      <th>Origin</th>\n",
       "      <th>Options</th>\n",
       "      <th>Year</th>\n",
       "      <th>Engine_Size</th>\n",
       "      <th>Mileage</th>\n",
       "      <th>Price</th>\n",
       "    </tr>\n",
       "  </thead>\n",
       "  <tbody>\n",
       "    <tr>\n",
       "      <th>0</th>\n",
       "      <td>Corolla</td>\n",
       "      <td>Abha</td>\n",
       "      <td>Toyota</td>\n",
       "      <td>Manual</td>\n",
       "      <td>Saudi</td>\n",
       "      <td>Standard</td>\n",
       "      <td>2013</td>\n",
       "      <td>1.4</td>\n",
       "      <td>421000</td>\n",
       "      <td>0</td>\n",
       "    </tr>\n",
       "    <tr>\n",
       "      <th>1</th>\n",
       "      <td>Yukon</td>\n",
       "      <td>Riyadh</td>\n",
       "      <td>GMC</td>\n",
       "      <td>Automatic</td>\n",
       "      <td>Saudi</td>\n",
       "      <td>Full</td>\n",
       "      <td>2014</td>\n",
       "      <td>8.0</td>\n",
       "      <td>80000</td>\n",
       "      <td>120000</td>\n",
       "    </tr>\n",
       "    <tr>\n",
       "      <th>2</th>\n",
       "      <td>Range Rover</td>\n",
       "      <td>Riyadh</td>\n",
       "      <td>Land Rover</td>\n",
       "      <td>Automatic</td>\n",
       "      <td>Gulf Arabic</td>\n",
       "      <td>Full</td>\n",
       "      <td>2015</td>\n",
       "      <td>5.0</td>\n",
       "      <td>140000</td>\n",
       "      <td>260000</td>\n",
       "    </tr>\n",
       "    <tr>\n",
       "      <th>3</th>\n",
       "      <td>Optima</td>\n",
       "      <td>Hafar Al-Batin</td>\n",
       "      <td>Kia</td>\n",
       "      <td>Automatic</td>\n",
       "      <td>Saudi</td>\n",
       "      <td>Semi Full</td>\n",
       "      <td>2015</td>\n",
       "      <td>2.4</td>\n",
       "      <td>220000</td>\n",
       "      <td>42000</td>\n",
       "    </tr>\n",
       "    <tr>\n",
       "      <th>4</th>\n",
       "      <td>FJ</td>\n",
       "      <td>Riyadh</td>\n",
       "      <td>Toyota</td>\n",
       "      <td>Automatic</td>\n",
       "      <td>Saudi</td>\n",
       "      <td>Full</td>\n",
       "      <td>2020</td>\n",
       "      <td>4.0</td>\n",
       "      <td>49000</td>\n",
       "      <td>0</td>\n",
       "    </tr>\n",
       "  </tbody>\n",
       "</table>\n",
       "</div>"
      ],
      "text/plain": [
       "          Type          Region        Make  Gear_Type       Origin    Options  \\\n",
       "0      Corolla            Abha      Toyota     Manual        Saudi   Standard   \n",
       "1        Yukon          Riyadh         GMC  Automatic        Saudi       Full   \n",
       "2  Range Rover          Riyadh  Land Rover  Automatic  Gulf Arabic       Full   \n",
       "3       Optima  Hafar Al-Batin         Kia  Automatic        Saudi  Semi Full   \n",
       "4           FJ          Riyadh      Toyota  Automatic        Saudi       Full   \n",
       "\n",
       "   Year  Engine_Size  Mileage   Price  \n",
       "0  2013          1.4   421000       0  \n",
       "1  2014          8.0    80000  120000  \n",
       "2  2015          5.0   140000  260000  \n",
       "3  2015          2.4   220000   42000  \n",
       "4  2020          4.0    49000       0  "
      ]
     },
     "execution_count": 753,
     "metadata": {},
     "output_type": "execute_result"
    }
   ],
   "source": [
    "# drop 'Negotiable' column\n",
    "df = df.drop(['Negotiable'], axis=1)\n",
    "df.head()"
   ]
  },
  {
   "cell_type": "code",
   "execution_count": 754,
   "id": "873bd298",
   "metadata": {
    "scrolled": true
   },
   "outputs": [
    {
     "name": "stdout",
     "output_type": "stream",
     "text": [
      "<class 'pandas.core.frame.DataFrame'>\n",
      "Int64Index: 5620 entries, 0 to 5623\n",
      "Data columns (total 10 columns):\n",
      " #   Column       Non-Null Count  Dtype  \n",
      "---  ------       --------------  -----  \n",
      " 0   Type         5620 non-null   object \n",
      " 1   Region       5620 non-null   object \n",
      " 2   Make         5620 non-null   object \n",
      " 3   Gear_Type    5620 non-null   object \n",
      " 4   Origin       5620 non-null   object \n",
      " 5   Options      5620 non-null   object \n",
      " 6   Year         5620 non-null   int64  \n",
      " 7   Engine_Size  5620 non-null   float64\n",
      " 8   Mileage      5620 non-null   int64  \n",
      " 9   Price        5620 non-null   int64  \n",
      "dtypes: float64(1), int64(3), object(6)\n",
      "memory usage: 483.0+ KB\n"
     ]
    }
   ],
   "source": [
    "# Cek info dataset\n",
    "df.info()"
   ]
  },
  {
   "cell_type": "markdown",
   "id": "f5c6180d",
   "metadata": {},
   "source": [
    "Sekarang kolom 'Negotiable' sudah tidak ada dalam dataset."
   ]
  },
  {
   "cell_type": "markdown",
   "id": "162cf130",
   "metadata": {},
   "source": [
    "Selanjutnya dilakukan pengecekan apakah terdapat nilai-nilai yang dirasa tidak masuk akal pada setiap fiturnya, misal ada nilai yang tidak sesuai dengan definisi fiturnya. Kita lakukan pengecekan melalui summary statistic untuk numerical atribut dan categorical atribut."
   ]
  },
  {
   "cell_type": "code",
   "execution_count": 755,
   "id": "30d65f56",
   "metadata": {},
   "outputs": [
    {
     "data": {
      "text/html": [
       "<div>\n",
       "<style scoped>\n",
       "    .dataframe tbody tr th:only-of-type {\n",
       "        vertical-align: middle;\n",
       "    }\n",
       "\n",
       "    .dataframe tbody tr th {\n",
       "        vertical-align: top;\n",
       "    }\n",
       "\n",
       "    .dataframe thead th {\n",
       "        text-align: right;\n",
       "    }\n",
       "</style>\n",
       "<table border=\"1\" class=\"dataframe\">\n",
       "  <thead>\n",
       "    <tr style=\"text-align: right;\">\n",
       "      <th></th>\n",
       "      <th>Year</th>\n",
       "      <th>Engine_Size</th>\n",
       "      <th>Mileage</th>\n",
       "      <th>Price</th>\n",
       "    </tr>\n",
       "  </thead>\n",
       "  <tbody>\n",
       "    <tr>\n",
       "      <th>count</th>\n",
       "      <td>5620.000000</td>\n",
       "      <td>5620.000000</td>\n",
       "      <td>5.620000e+03</td>\n",
       "      <td>5620.000000</td>\n",
       "    </tr>\n",
       "    <tr>\n",
       "      <th>mean</th>\n",
       "      <td>2014.100356</td>\n",
       "      <td>3.296299</td>\n",
       "      <td>1.509222e+05</td>\n",
       "      <td>53086.404448</td>\n",
       "    </tr>\n",
       "    <tr>\n",
       "      <th>std</th>\n",
       "      <td>5.793003</td>\n",
       "      <td>1.515253</td>\n",
       "      <td>3.829633e+05</td>\n",
       "      <td>70175.153207</td>\n",
       "    </tr>\n",
       "    <tr>\n",
       "      <th>min</th>\n",
       "      <td>1963.000000</td>\n",
       "      <td>1.000000</td>\n",
       "      <td>1.000000e+02</td>\n",
       "      <td>0.000000</td>\n",
       "    </tr>\n",
       "    <tr>\n",
       "      <th>25%</th>\n",
       "      <td>2012.000000</td>\n",
       "      <td>2.000000</td>\n",
       "      <td>3.800000e+04</td>\n",
       "      <td>0.000000</td>\n",
       "    </tr>\n",
       "    <tr>\n",
       "      <th>50%</th>\n",
       "      <td>2016.000000</td>\n",
       "      <td>3.000000</td>\n",
       "      <td>1.030000e+05</td>\n",
       "      <td>36500.000000</td>\n",
       "    </tr>\n",
       "    <tr>\n",
       "      <th>75%</th>\n",
       "      <td>2018.000000</td>\n",
       "      <td>4.500000</td>\n",
       "      <td>1.960000e+05</td>\n",
       "      <td>73000.000000</td>\n",
       "    </tr>\n",
       "    <tr>\n",
       "      <th>max</th>\n",
       "      <td>2022.000000</td>\n",
       "      <td>9.000000</td>\n",
       "      <td>2.000000e+07</td>\n",
       "      <td>850000.000000</td>\n",
       "    </tr>\n",
       "  </tbody>\n",
       "</table>\n",
       "</div>"
      ],
      "text/plain": [
       "              Year  Engine_Size       Mileage          Price\n",
       "count  5620.000000  5620.000000  5.620000e+03    5620.000000\n",
       "mean   2014.100356     3.296299  1.509222e+05   53086.404448\n",
       "std       5.793003     1.515253  3.829633e+05   70175.153207\n",
       "min    1963.000000     1.000000  1.000000e+02       0.000000\n",
       "25%    2012.000000     2.000000  3.800000e+04       0.000000\n",
       "50%    2016.000000     3.000000  1.030000e+05   36500.000000\n",
       "75%    2018.000000     4.500000  1.960000e+05   73000.000000\n",
       "max    2022.000000     9.000000  2.000000e+07  850000.000000"
      ]
     },
     "execution_count": 755,
     "metadata": {},
     "output_type": "execute_result"
    }
   ],
   "source": [
    "# Summary Statistics for numerical attributes\n",
    "df.describe()"
   ]
  },
  {
   "cell_type": "markdown",
   "id": "3cf9ed14",
   "metadata": {},
   "source": [
    "Dari keempat numerical atribut didapatkan pada fitur 'Price' dirasa tidak masuk akal karena terdapat data yang bernilai 0, itu berarti mobil tersebut dapat dibeli secara gratis oleh pelanggan. Oleh karena itu untuk menghindari model dari kesalahan dalam interpretasi data maka data yang memiliki nilai 'Price' = 0 akan di drop.\n",
    "\n",
    "Selanjutnya pada fitur 'Mileage' terdapat data yang dirasa tidak masuk akal juga karena terdapat nilai tertinggi dari 'Mileage' senilai 20.000.000, padahal pada odometer sebuah mobil jarak tempuh / km maksimal yang dapat dicapai yaitu 999.999 setelah itu akan mengulang dari 0 kembali. Oleh karena itu untuk data yang memiliki nilai 'Mileage' > 999.999 akan di drop."
   ]
  },
  {
   "cell_type": "code",
   "execution_count": 756,
   "id": "136c3d61",
   "metadata": {},
   "outputs": [
    {
     "data": {
      "text/plain": [
       "1796"
      ]
     },
     "execution_count": 756,
     "metadata": {},
     "output_type": "execute_result"
    }
   ],
   "source": [
    "# Price value is 0\n",
    "df[df['Price'] == 0]['Price'].count()"
   ]
  },
  {
   "cell_type": "markdown",
   "id": "6418944a",
   "metadata": {},
   "source": [
    "Jumlah data yang memiliki nilai 'Price' = 0 sebanyak 1.796 data atau 31,95 % dari seluruh total data pada dataset. Dikarenakan fitur 'price' yang akan dijadikan label dan berdampak signifikan terhadap model jika terdapat nilai sama dengan 0 maka walaupun jumlahnya melebihi 25 % fitur 'Price' akan di drop."
   ]
  },
  {
   "cell_type": "code",
   "execution_count": 757,
   "id": "6471e180",
   "metadata": {
    "scrolled": false
   },
   "outputs": [
    {
     "data": {
      "text/html": [
       "<div>\n",
       "<style scoped>\n",
       "    .dataframe tbody tr th:only-of-type {\n",
       "        vertical-align: middle;\n",
       "    }\n",
       "\n",
       "    .dataframe tbody tr th {\n",
       "        vertical-align: top;\n",
       "    }\n",
       "\n",
       "    .dataframe thead th {\n",
       "        text-align: right;\n",
       "    }\n",
       "</style>\n",
       "<table border=\"1\" class=\"dataframe\">\n",
       "  <thead>\n",
       "    <tr style=\"text-align: right;\">\n",
       "      <th></th>\n",
       "      <th>Type</th>\n",
       "      <th>Region</th>\n",
       "      <th>Make</th>\n",
       "      <th>Gear_Type</th>\n",
       "      <th>Origin</th>\n",
       "      <th>Options</th>\n",
       "      <th>Year</th>\n",
       "      <th>Engine_Size</th>\n",
       "      <th>Mileage</th>\n",
       "      <th>Price</th>\n",
       "    </tr>\n",
       "  </thead>\n",
       "  <tbody>\n",
       "    <tr>\n",
       "      <th>0</th>\n",
       "      <td>Corolla</td>\n",
       "      <td>Abha</td>\n",
       "      <td>Toyota</td>\n",
       "      <td>Manual</td>\n",
       "      <td>Saudi</td>\n",
       "      <td>Standard</td>\n",
       "      <td>2013</td>\n",
       "      <td>1.4</td>\n",
       "      <td>421000</td>\n",
       "      <td>0</td>\n",
       "    </tr>\n",
       "    <tr>\n",
       "      <th>4</th>\n",
       "      <td>FJ</td>\n",
       "      <td>Riyadh</td>\n",
       "      <td>Toyota</td>\n",
       "      <td>Automatic</td>\n",
       "      <td>Saudi</td>\n",
       "      <td>Full</td>\n",
       "      <td>2020</td>\n",
       "      <td>4.0</td>\n",
       "      <td>49000</td>\n",
       "      <td>0</td>\n",
       "    </tr>\n",
       "    <tr>\n",
       "      <th>9</th>\n",
       "      <td>LS</td>\n",
       "      <td>Aseer</td>\n",
       "      <td>Lexus</td>\n",
       "      <td>Automatic</td>\n",
       "      <td>Saudi</td>\n",
       "      <td>Full</td>\n",
       "      <td>1998</td>\n",
       "      <td>4.6</td>\n",
       "      <td>300</td>\n",
       "      <td>0</td>\n",
       "    </tr>\n",
       "    <tr>\n",
       "      <th>14</th>\n",
       "      <td>Hilux</td>\n",
       "      <td>Yanbu</td>\n",
       "      <td>Toyota</td>\n",
       "      <td>Automatic</td>\n",
       "      <td>Saudi</td>\n",
       "      <td>Full</td>\n",
       "      <td>2014</td>\n",
       "      <td>2.7</td>\n",
       "      <td>209</td>\n",
       "      <td>0</td>\n",
       "    </tr>\n",
       "    <tr>\n",
       "      <th>15</th>\n",
       "      <td>Land Cruiser</td>\n",
       "      <td>Aseer</td>\n",
       "      <td>Toyota</td>\n",
       "      <td>Manual</td>\n",
       "      <td>Gulf Arabic</td>\n",
       "      <td>Semi Full</td>\n",
       "      <td>1982</td>\n",
       "      <td>4.6</td>\n",
       "      <td>340000</td>\n",
       "      <td>0</td>\n",
       "    </tr>\n",
       "    <tr>\n",
       "      <th>...</th>\n",
       "      <td>...</td>\n",
       "      <td>...</td>\n",
       "      <td>...</td>\n",
       "      <td>...</td>\n",
       "      <td>...</td>\n",
       "      <td>...</td>\n",
       "      <td>...</td>\n",
       "      <td>...</td>\n",
       "      <td>...</td>\n",
       "      <td>...</td>\n",
       "    </tr>\n",
       "    <tr>\n",
       "      <th>5610</th>\n",
       "      <td>Town Car</td>\n",
       "      <td>Jeddah</td>\n",
       "      <td>Lincoln</td>\n",
       "      <td>Automatic</td>\n",
       "      <td>Other</td>\n",
       "      <td>Full</td>\n",
       "      <td>1999</td>\n",
       "      <td>5.0</td>\n",
       "      <td>343</td>\n",
       "      <td>0</td>\n",
       "    </tr>\n",
       "    <tr>\n",
       "      <th>5614</th>\n",
       "      <td>Victoria</td>\n",
       "      <td>Makkah</td>\n",
       "      <td>Ford</td>\n",
       "      <td>Automatic</td>\n",
       "      <td>Saudi</td>\n",
       "      <td>Standard</td>\n",
       "      <td>2010</td>\n",
       "      <td>4.6</td>\n",
       "      <td>345000</td>\n",
       "      <td>0</td>\n",
       "    </tr>\n",
       "    <tr>\n",
       "      <th>5617</th>\n",
       "      <td>Yukon</td>\n",
       "      <td>Jubail</td>\n",
       "      <td>GMC</td>\n",
       "      <td>Automatic</td>\n",
       "      <td>Saudi</td>\n",
       "      <td>Semi Full</td>\n",
       "      <td>2006</td>\n",
       "      <td>5.3</td>\n",
       "      <td>300</td>\n",
       "      <td>0</td>\n",
       "    </tr>\n",
       "    <tr>\n",
       "      <th>5620</th>\n",
       "      <td>Altima</td>\n",
       "      <td>Jeddah</td>\n",
       "      <td>Nissan</td>\n",
       "      <td>Automatic</td>\n",
       "      <td>Saudi</td>\n",
       "      <td>Semi Full</td>\n",
       "      <td>2020</td>\n",
       "      <td>2.5</td>\n",
       "      <td>58000</td>\n",
       "      <td>0</td>\n",
       "    </tr>\n",
       "    <tr>\n",
       "      <th>5623</th>\n",
       "      <td>ES</td>\n",
       "      <td>Jeddah</td>\n",
       "      <td>Lexus</td>\n",
       "      <td>Automatic</td>\n",
       "      <td>Other</td>\n",
       "      <td>Full</td>\n",
       "      <td>2017</td>\n",
       "      <td>3.5</td>\n",
       "      <td>115000</td>\n",
       "      <td>0</td>\n",
       "    </tr>\n",
       "  </tbody>\n",
       "</table>\n",
       "<p>1796 rows × 10 columns</p>\n",
       "</div>"
      ],
      "text/plain": [
       "              Type  Region     Make  Gear_Type       Origin    Options  Year  \\\n",
       "0          Corolla    Abha   Toyota     Manual        Saudi   Standard  2013   \n",
       "4               FJ  Riyadh   Toyota  Automatic        Saudi       Full  2020   \n",
       "9               LS   Aseer    Lexus  Automatic        Saudi       Full  1998   \n",
       "14           Hilux   Yanbu   Toyota  Automatic        Saudi       Full  2014   \n",
       "15    Land Cruiser   Aseer   Toyota     Manual  Gulf Arabic  Semi Full  1982   \n",
       "...            ...     ...      ...        ...          ...        ...   ...   \n",
       "5610      Town Car  Jeddah  Lincoln  Automatic        Other       Full  1999   \n",
       "5614      Victoria  Makkah     Ford  Automatic        Saudi   Standard  2010   \n",
       "5617         Yukon  Jubail      GMC  Automatic        Saudi  Semi Full  2006   \n",
       "5620        Altima  Jeddah   Nissan  Automatic        Saudi  Semi Full  2020   \n",
       "5623            ES  Jeddah    Lexus  Automatic        Other       Full  2017   \n",
       "\n",
       "      Engine_Size  Mileage  Price  \n",
       "0             1.4   421000      0  \n",
       "4             4.0    49000      0  \n",
       "9             4.6      300      0  \n",
       "14            2.7      209      0  \n",
       "15            4.6   340000      0  \n",
       "...           ...      ...    ...  \n",
       "5610          5.0      343      0  \n",
       "5614          4.6   345000      0  \n",
       "5617          5.3      300      0  \n",
       "5620          2.5    58000      0  \n",
       "5623          3.5   115000      0  \n",
       "\n",
       "[1796 rows x 10 columns]"
      ]
     },
     "execution_count": 757,
     "metadata": {},
     "output_type": "execute_result"
    }
   ],
   "source": [
    "# Check rows details with Price = 0\n",
    "df[df.Price == 0]"
   ]
  },
  {
   "cell_type": "code",
   "execution_count": 758,
   "id": "cc27d662",
   "metadata": {},
   "outputs": [
    {
     "data": {
      "text/html": [
       "<div>\n",
       "<style scoped>\n",
       "    .dataframe tbody tr th:only-of-type {\n",
       "        vertical-align: middle;\n",
       "    }\n",
       "\n",
       "    .dataframe tbody tr th {\n",
       "        vertical-align: top;\n",
       "    }\n",
       "\n",
       "    .dataframe thead th {\n",
       "        text-align: right;\n",
       "    }\n",
       "</style>\n",
       "<table border=\"1\" class=\"dataframe\">\n",
       "  <thead>\n",
       "    <tr style=\"text-align: right;\">\n",
       "      <th></th>\n",
       "      <th>Type</th>\n",
       "      <th>Region</th>\n",
       "      <th>Make</th>\n",
       "      <th>Gear_Type</th>\n",
       "      <th>Origin</th>\n",
       "      <th>Options</th>\n",
       "      <th>Year</th>\n",
       "      <th>Engine_Size</th>\n",
       "      <th>Mileage</th>\n",
       "      <th>Price</th>\n",
       "    </tr>\n",
       "  </thead>\n",
       "  <tbody>\n",
       "    <tr>\n",
       "      <th>1</th>\n",
       "      <td>Yukon</td>\n",
       "      <td>Riyadh</td>\n",
       "      <td>GMC</td>\n",
       "      <td>Automatic</td>\n",
       "      <td>Saudi</td>\n",
       "      <td>Full</td>\n",
       "      <td>2014</td>\n",
       "      <td>8.0</td>\n",
       "      <td>80000</td>\n",
       "      <td>120000</td>\n",
       "    </tr>\n",
       "    <tr>\n",
       "      <th>2</th>\n",
       "      <td>Range Rover</td>\n",
       "      <td>Riyadh</td>\n",
       "      <td>Land Rover</td>\n",
       "      <td>Automatic</td>\n",
       "      <td>Gulf Arabic</td>\n",
       "      <td>Full</td>\n",
       "      <td>2015</td>\n",
       "      <td>5.0</td>\n",
       "      <td>140000</td>\n",
       "      <td>260000</td>\n",
       "    </tr>\n",
       "    <tr>\n",
       "      <th>3</th>\n",
       "      <td>Optima</td>\n",
       "      <td>Hafar Al-Batin</td>\n",
       "      <td>Kia</td>\n",
       "      <td>Automatic</td>\n",
       "      <td>Saudi</td>\n",
       "      <td>Semi Full</td>\n",
       "      <td>2015</td>\n",
       "      <td>2.4</td>\n",
       "      <td>220000</td>\n",
       "      <td>42000</td>\n",
       "    </tr>\n",
       "    <tr>\n",
       "      <th>5</th>\n",
       "      <td>CX3</td>\n",
       "      <td>Abha</td>\n",
       "      <td>Mazda</td>\n",
       "      <td>Automatic</td>\n",
       "      <td>Saudi</td>\n",
       "      <td>Semi Full</td>\n",
       "      <td>2019</td>\n",
       "      <td>2.0</td>\n",
       "      <td>25000</td>\n",
       "      <td>58000</td>\n",
       "    </tr>\n",
       "    <tr>\n",
       "      <th>6</th>\n",
       "      <td>Cayenne S</td>\n",
       "      <td>Riyadh</td>\n",
       "      <td>Porsche</td>\n",
       "      <td>Automatic</td>\n",
       "      <td>Saudi</td>\n",
       "      <td>Full</td>\n",
       "      <td>2012</td>\n",
       "      <td>4.8</td>\n",
       "      <td>189000</td>\n",
       "      <td>85000</td>\n",
       "    </tr>\n",
       "    <tr>\n",
       "      <th>7</th>\n",
       "      <td>Sonata</td>\n",
       "      <td>Riyadh</td>\n",
       "      <td>Hyundai</td>\n",
       "      <td>Automatic</td>\n",
       "      <td>Saudi</td>\n",
       "      <td>Full</td>\n",
       "      <td>2016</td>\n",
       "      <td>2.4</td>\n",
       "      <td>155</td>\n",
       "      <td>48000</td>\n",
       "    </tr>\n",
       "    <tr>\n",
       "      <th>8</th>\n",
       "      <td>Avalon</td>\n",
       "      <td>Riyadh</td>\n",
       "      <td>Toyota</td>\n",
       "      <td>Automatic</td>\n",
       "      <td>Saudi</td>\n",
       "      <td>Standard</td>\n",
       "      <td>2016</td>\n",
       "      <td>3.5</td>\n",
       "      <td>110864</td>\n",
       "      <td>81500</td>\n",
       "    </tr>\n",
       "    <tr>\n",
       "      <th>10</th>\n",
       "      <td>C300</td>\n",
       "      <td>Makkah</td>\n",
       "      <td>Chrysler</td>\n",
       "      <td>Automatic</td>\n",
       "      <td>Saudi</td>\n",
       "      <td>Full</td>\n",
       "      <td>2013</td>\n",
       "      <td>5.7</td>\n",
       "      <td>200</td>\n",
       "      <td>55000</td>\n",
       "    </tr>\n",
       "    <tr>\n",
       "      <th>11</th>\n",
       "      <td>Land Cruiser</td>\n",
       "      <td>Riyadh</td>\n",
       "      <td>Toyota</td>\n",
       "      <td>Automatic</td>\n",
       "      <td>Saudi</td>\n",
       "      <td>Full</td>\n",
       "      <td>2011</td>\n",
       "      <td>4.6</td>\n",
       "      <td>79000</td>\n",
       "      <td>145000</td>\n",
       "    </tr>\n",
       "    <tr>\n",
       "      <th>12</th>\n",
       "      <td>LS</td>\n",
       "      <td>Dammam</td>\n",
       "      <td>Lexus</td>\n",
       "      <td>Automatic</td>\n",
       "      <td>Saudi</td>\n",
       "      <td>Full</td>\n",
       "      <td>2008</td>\n",
       "      <td>4.6</td>\n",
       "      <td>299000</td>\n",
       "      <td>38000</td>\n",
       "    </tr>\n",
       "  </tbody>\n",
       "</table>\n",
       "</div>"
      ],
      "text/plain": [
       "            Type          Region        Make  Gear_Type       Origin  \\\n",
       "1          Yukon          Riyadh         GMC  Automatic        Saudi   \n",
       "2    Range Rover          Riyadh  Land Rover  Automatic  Gulf Arabic   \n",
       "3         Optima  Hafar Al-Batin         Kia  Automatic        Saudi   \n",
       "5            CX3            Abha       Mazda  Automatic        Saudi   \n",
       "6      Cayenne S          Riyadh     Porsche  Automatic        Saudi   \n",
       "7         Sonata          Riyadh     Hyundai  Automatic        Saudi   \n",
       "8         Avalon          Riyadh      Toyota  Automatic        Saudi   \n",
       "10          C300          Makkah    Chrysler  Automatic        Saudi   \n",
       "11  Land Cruiser          Riyadh      Toyota  Automatic        Saudi   \n",
       "12            LS          Dammam       Lexus  Automatic        Saudi   \n",
       "\n",
       "      Options  Year  Engine_Size  Mileage   Price  \n",
       "1        Full  2014          8.0    80000  120000  \n",
       "2        Full  2015          5.0   140000  260000  \n",
       "3   Semi Full  2015          2.4   220000   42000  \n",
       "5   Semi Full  2019          2.0    25000   58000  \n",
       "6        Full  2012          4.8   189000   85000  \n",
       "7        Full  2016          2.4      155   48000  \n",
       "8    Standard  2016          3.5   110864   81500  \n",
       "10       Full  2013          5.7      200   55000  \n",
       "11       Full  2011          4.6    79000  145000  \n",
       "12       Full  2008          4.6   299000   38000  "
      ]
     },
     "execution_count": 758,
     "metadata": {},
     "output_type": "execute_result"
    }
   ],
   "source": [
    "# Drop rows with price = 0\n",
    "df = df[df['Price'] != 0]\n",
    "df.head(10)"
   ]
  },
  {
   "cell_type": "code",
   "execution_count": 759,
   "id": "e4a32d64",
   "metadata": {},
   "outputs": [
    {
     "data": {
      "text/html": [
       "<div>\n",
       "<style scoped>\n",
       "    .dataframe tbody tr th:only-of-type {\n",
       "        vertical-align: middle;\n",
       "    }\n",
       "\n",
       "    .dataframe tbody tr th {\n",
       "        vertical-align: top;\n",
       "    }\n",
       "\n",
       "    .dataframe thead th {\n",
       "        text-align: right;\n",
       "    }\n",
       "</style>\n",
       "<table border=\"1\" class=\"dataframe\">\n",
       "  <thead>\n",
       "    <tr style=\"text-align: right;\">\n",
       "      <th></th>\n",
       "      <th>Type</th>\n",
       "      <th>Region</th>\n",
       "      <th>Make</th>\n",
       "      <th>Gear_Type</th>\n",
       "      <th>Origin</th>\n",
       "      <th>Options</th>\n",
       "      <th>Year</th>\n",
       "      <th>Engine_Size</th>\n",
       "      <th>Mileage</th>\n",
       "      <th>Price</th>\n",
       "    </tr>\n",
       "  </thead>\n",
       "  <tbody>\n",
       "    <tr>\n",
       "      <th>3131</th>\n",
       "      <td>Yukon</td>\n",
       "      <td>Jubail</td>\n",
       "      <td>GMC</td>\n",
       "      <td>Automatic</td>\n",
       "      <td>Saudi</td>\n",
       "      <td>Full</td>\n",
       "      <td>2019</td>\n",
       "      <td>5.3</td>\n",
       "      <td>50000</td>\n",
       "      <td>1</td>\n",
       "    </tr>\n",
       "    <tr>\n",
       "      <th>3992</th>\n",
       "      <td>G80</td>\n",
       "      <td>Riyadh</td>\n",
       "      <td>Genesis</td>\n",
       "      <td>Automatic</td>\n",
       "      <td>Other</td>\n",
       "      <td>Semi Full</td>\n",
       "      <td>2018</td>\n",
       "      <td>3.8</td>\n",
       "      <td>170000</td>\n",
       "      <td>500</td>\n",
       "    </tr>\n",
       "    <tr>\n",
       "      <th>4399</th>\n",
       "      <td>Yaris</td>\n",
       "      <td>Riyadh</td>\n",
       "      <td>Toyota</td>\n",
       "      <td>Automatic</td>\n",
       "      <td>Saudi</td>\n",
       "      <td>Standard</td>\n",
       "      <td>2018</td>\n",
       "      <td>1.5</td>\n",
       "      <td>100000</td>\n",
       "      <td>850</td>\n",
       "    </tr>\n",
       "    <tr>\n",
       "      <th>5128</th>\n",
       "      <td>Rio</td>\n",
       "      <td>Arar</td>\n",
       "      <td>Kia</td>\n",
       "      <td>Automatic</td>\n",
       "      <td>Saudi</td>\n",
       "      <td>Standard</td>\n",
       "      <td>2019</td>\n",
       "      <td>1.4</td>\n",
       "      <td>55500</td>\n",
       "      <td>884</td>\n",
       "    </tr>\n",
       "    <tr>\n",
       "      <th>3474</th>\n",
       "      <td>Yaris</td>\n",
       "      <td>Najran</td>\n",
       "      <td>Toyota</td>\n",
       "      <td>Automatic</td>\n",
       "      <td>Saudi</td>\n",
       "      <td>Standard</td>\n",
       "      <td>2019</td>\n",
       "      <td>1.6</td>\n",
       "      <td>85000</td>\n",
       "      <td>950</td>\n",
       "    </tr>\n",
       "    <tr>\n",
       "      <th>3760</th>\n",
       "      <td>5</td>\n",
       "      <td>Al-Ahsa</td>\n",
       "      <td>MG</td>\n",
       "      <td>Automatic</td>\n",
       "      <td>Saudi</td>\n",
       "      <td>Standard</td>\n",
       "      <td>2020</td>\n",
       "      <td>1.5</td>\n",
       "      <td>41000</td>\n",
       "      <td>988</td>\n",
       "    </tr>\n",
       "    <tr>\n",
       "      <th>3616</th>\n",
       "      <td>Elantra</td>\n",
       "      <td>Jeddah</td>\n",
       "      <td>Hyundai</td>\n",
       "      <td>Automatic</td>\n",
       "      <td>Saudi</td>\n",
       "      <td>Standard</td>\n",
       "      <td>2019</td>\n",
       "      <td>2.0</td>\n",
       "      <td>89000</td>\n",
       "      <td>993</td>\n",
       "    </tr>\n",
       "    <tr>\n",
       "      <th>1534</th>\n",
       "      <td>Yukon</td>\n",
       "      <td>Jeddah</td>\n",
       "      <td>GMC</td>\n",
       "      <td>Automatic</td>\n",
       "      <td>Saudi</td>\n",
       "      <td>Standard</td>\n",
       "      <td>2021</td>\n",
       "      <td>5.3</td>\n",
       "      <td>4000</td>\n",
       "      <td>1000</td>\n",
       "    </tr>\n",
       "    <tr>\n",
       "      <th>3892</th>\n",
       "      <td>Corolla</td>\n",
       "      <td>Hail</td>\n",
       "      <td>Toyota</td>\n",
       "      <td>Automatic</td>\n",
       "      <td>Saudi</td>\n",
       "      <td>Standard</td>\n",
       "      <td>2020</td>\n",
       "      <td>1.6</td>\n",
       "      <td>48563</td>\n",
       "      <td>1002</td>\n",
       "    </tr>\n",
       "    <tr>\n",
       "      <th>46</th>\n",
       "      <td>Elantra</td>\n",
       "      <td>Abha</td>\n",
       "      <td>Hyundai</td>\n",
       "      <td>Automatic</td>\n",
       "      <td>Saudi</td>\n",
       "      <td>Semi Full</td>\n",
       "      <td>2020</td>\n",
       "      <td>2.0</td>\n",
       "      <td>27000</td>\n",
       "      <td>1010</td>\n",
       "    </tr>\n",
       "    <tr>\n",
       "      <th>5424</th>\n",
       "      <td>Yaris</td>\n",
       "      <td>Najran</td>\n",
       "      <td>Toyota</td>\n",
       "      <td>Automatic</td>\n",
       "      <td>Saudi</td>\n",
       "      <td>Full</td>\n",
       "      <td>2018</td>\n",
       "      <td>1.5</td>\n",
       "      <td>169000</td>\n",
       "      <td>1046</td>\n",
       "    </tr>\n",
       "    <tr>\n",
       "      <th>2366</th>\n",
       "      <td>Corolla</td>\n",
       "      <td>Makkah</td>\n",
       "      <td>Toyota</td>\n",
       "      <td>Automatic</td>\n",
       "      <td>Saudi</td>\n",
       "      <td>Semi Full</td>\n",
       "      <td>2020</td>\n",
       "      <td>1.1</td>\n",
       "      <td>26000</td>\n",
       "      <td>1086</td>\n",
       "    </tr>\n",
       "    <tr>\n",
       "      <th>4124</th>\n",
       "      <td>Duster</td>\n",
       "      <td>Al-Ahsa</td>\n",
       "      <td>Renault</td>\n",
       "      <td>Automatic</td>\n",
       "      <td>Saudi</td>\n",
       "      <td>Full</td>\n",
       "      <td>2017</td>\n",
       "      <td>2.0</td>\n",
       "      <td>106000</td>\n",
       "      <td>1128</td>\n",
       "    </tr>\n",
       "    <tr>\n",
       "      <th>907</th>\n",
       "      <td>Sentra</td>\n",
       "      <td>Jeddah</td>\n",
       "      <td>Nissan</td>\n",
       "      <td>Automatic</td>\n",
       "      <td>Saudi</td>\n",
       "      <td>Semi Full</td>\n",
       "      <td>2017</td>\n",
       "      <td>1.6</td>\n",
       "      <td>55005</td>\n",
       "      <td>1139</td>\n",
       "    </tr>\n",
       "    <tr>\n",
       "      <th>5035</th>\n",
       "      <td>Kona</td>\n",
       "      <td>Al-Medina</td>\n",
       "      <td>Hyundai</td>\n",
       "      <td>Automatic</td>\n",
       "      <td>Saudi</td>\n",
       "      <td>Standard</td>\n",
       "      <td>2020</td>\n",
       "      <td>2.0</td>\n",
       "      <td>6400</td>\n",
       "      <td>1156</td>\n",
       "    </tr>\n",
       "    <tr>\n",
       "      <th>356</th>\n",
       "      <td>Wingle</td>\n",
       "      <td>Jeddah</td>\n",
       "      <td>Great Wall</td>\n",
       "      <td>Manual</td>\n",
       "      <td>Saudi</td>\n",
       "      <td>Full</td>\n",
       "      <td>2020</td>\n",
       "      <td>2.0</td>\n",
       "      <td>73000</td>\n",
       "      <td>1197</td>\n",
       "    </tr>\n",
       "    <tr>\n",
       "      <th>65</th>\n",
       "      <td>Malibu</td>\n",
       "      <td>Arar</td>\n",
       "      <td>Chevrolet</td>\n",
       "      <td>Automatic</td>\n",
       "      <td>Saudi</td>\n",
       "      <td>Standard</td>\n",
       "      <td>2021</td>\n",
       "      <td>1.5</td>\n",
       "      <td>24000</td>\n",
       "      <td>1200</td>\n",
       "    </tr>\n",
       "    <tr>\n",
       "      <th>423</th>\n",
       "      <td>Elantra</td>\n",
       "      <td>Riyadh</td>\n",
       "      <td>Hyundai</td>\n",
       "      <td>Automatic</td>\n",
       "      <td>Saudi</td>\n",
       "      <td>Semi Full</td>\n",
       "      <td>2020</td>\n",
       "      <td>2.0</td>\n",
       "      <td>47000</td>\n",
       "      <td>1221</td>\n",
       "    </tr>\n",
       "    <tr>\n",
       "      <th>789</th>\n",
       "      <td>CX5</td>\n",
       "      <td>Khobar</td>\n",
       "      <td>Mazda</td>\n",
       "      <td>Automatic</td>\n",
       "      <td>Saudi</td>\n",
       "      <td>Standard</td>\n",
       "      <td>2021</td>\n",
       "      <td>2.5</td>\n",
       "      <td>5500</td>\n",
       "      <td>1262</td>\n",
       "    </tr>\n",
       "    <tr>\n",
       "      <th>3362</th>\n",
       "      <td>Tucson</td>\n",
       "      <td>Riyadh</td>\n",
       "      <td>Hyundai</td>\n",
       "      <td>Automatic</td>\n",
       "      <td>Saudi</td>\n",
       "      <td>Semi Full</td>\n",
       "      <td>2019</td>\n",
       "      <td>2.0</td>\n",
       "      <td>101000</td>\n",
       "      <td>1300</td>\n",
       "    </tr>\n",
       "  </tbody>\n",
       "</table>\n",
       "</div>"
      ],
      "text/plain": [
       "         Type     Region        Make  Gear_Type Origin    Options  Year  \\\n",
       "3131    Yukon     Jubail         GMC  Automatic  Saudi       Full  2019   \n",
       "3992      G80     Riyadh     Genesis  Automatic  Other  Semi Full  2018   \n",
       "4399    Yaris     Riyadh      Toyota  Automatic  Saudi   Standard  2018   \n",
       "5128      Rio       Arar         Kia  Automatic  Saudi   Standard  2019   \n",
       "3474    Yaris     Najran      Toyota  Automatic  Saudi   Standard  2019   \n",
       "3760        5    Al-Ahsa          MG  Automatic  Saudi   Standard  2020   \n",
       "3616  Elantra     Jeddah     Hyundai  Automatic  Saudi   Standard  2019   \n",
       "1534    Yukon     Jeddah         GMC  Automatic  Saudi   Standard  2021   \n",
       "3892  Corolla       Hail      Toyota  Automatic  Saudi   Standard  2020   \n",
       "46    Elantra       Abha     Hyundai  Automatic  Saudi  Semi Full  2020   \n",
       "5424    Yaris     Najran      Toyota  Automatic  Saudi       Full  2018   \n",
       "2366  Corolla     Makkah      Toyota  Automatic  Saudi  Semi Full  2020   \n",
       "4124   Duster    Al-Ahsa     Renault  Automatic  Saudi       Full  2017   \n",
       "907    Sentra     Jeddah      Nissan  Automatic  Saudi  Semi Full  2017   \n",
       "5035     Kona  Al-Medina     Hyundai  Automatic  Saudi   Standard  2020   \n",
       "356    Wingle     Jeddah  Great Wall     Manual  Saudi       Full  2020   \n",
       "65     Malibu       Arar   Chevrolet  Automatic  Saudi   Standard  2021   \n",
       "423   Elantra     Riyadh     Hyundai  Automatic  Saudi  Semi Full  2020   \n",
       "789       CX5     Khobar       Mazda  Automatic  Saudi   Standard  2021   \n",
       "3362   Tucson     Riyadh     Hyundai  Automatic  Saudi  Semi Full  2019   \n",
       "\n",
       "      Engine_Size  Mileage  Price  \n",
       "3131          5.3    50000      1  \n",
       "3992          3.8   170000    500  \n",
       "4399          1.5   100000    850  \n",
       "5128          1.4    55500    884  \n",
       "3474          1.6    85000    950  \n",
       "3760          1.5    41000    988  \n",
       "3616          2.0    89000    993  \n",
       "1534          5.3     4000   1000  \n",
       "3892          1.6    48563   1002  \n",
       "46            2.0    27000   1010  \n",
       "5424          1.5   169000   1046  \n",
       "2366          1.1    26000   1086  \n",
       "4124          2.0   106000   1128  \n",
       "907           1.6    55005   1139  \n",
       "5035          2.0     6400   1156  \n",
       "356           2.0    73000   1197  \n",
       "65            1.5    24000   1200  \n",
       "423           2.0    47000   1221  \n",
       "789           2.5     5500   1262  \n",
       "3362          2.0   101000   1300  "
      ]
     },
     "execution_count": 759,
     "metadata": {},
     "output_type": "execute_result"
    }
   ],
   "source": [
    "# Check min value after drop column with price = 0\n",
    "df.sort_values(by='Price', ascending=1, inplace=True)\n",
    "df.head(20)"
   ]
  },
  {
   "cell_type": "markdown",
   "id": "2e8952b3",
   "metadata": {},
   "source": [
    "Jika dilihat dari hasil sort data value dari yang terkecil, masih terdapat data yang tidak masuk akal sebagai harga jual sebuah mobil dimana terdapat harga mobil dibawah dari harga pasar yaitu < 10.000 (niali 10.000 sebagai asumsi nilai termurah yang paling masuk akal dari harga mobil). Oleh karena itu untuk nilai 'Price' < 10.000 akan di drop. "
   ]
  },
  {
   "cell_type": "code",
   "execution_count": 760,
   "id": "529df39f",
   "metadata": {},
   "outputs": [
    {
     "data": {
      "text/plain": [
       "98"
      ]
     },
     "execution_count": 760,
     "metadata": {},
     "output_type": "execute_result"
    }
   ],
   "source": [
    "# Check rows with price value < 10.000\n",
    "df[df['Price'] < 10000]['Price'].count()"
   ]
  },
  {
   "cell_type": "code",
   "execution_count": 761,
   "id": "157625a0",
   "metadata": {},
   "outputs": [
    {
     "data": {
      "text/html": [
       "<div>\n",
       "<style scoped>\n",
       "    .dataframe tbody tr th:only-of-type {\n",
       "        vertical-align: middle;\n",
       "    }\n",
       "\n",
       "    .dataframe tbody tr th {\n",
       "        vertical-align: top;\n",
       "    }\n",
       "\n",
       "    .dataframe thead th {\n",
       "        text-align: right;\n",
       "    }\n",
       "</style>\n",
       "<table border=\"1\" class=\"dataframe\">\n",
       "  <thead>\n",
       "    <tr style=\"text-align: right;\">\n",
       "      <th></th>\n",
       "      <th>Type</th>\n",
       "      <th>Region</th>\n",
       "      <th>Make</th>\n",
       "      <th>Gear_Type</th>\n",
       "      <th>Origin</th>\n",
       "      <th>Options</th>\n",
       "      <th>Year</th>\n",
       "      <th>Engine_Size</th>\n",
       "      <th>Mileage</th>\n",
       "      <th>Price</th>\n",
       "    </tr>\n",
       "  </thead>\n",
       "  <tbody>\n",
       "    <tr>\n",
       "      <th>915</th>\n",
       "      <td>Pathfinder</td>\n",
       "      <td>Riyadh</td>\n",
       "      <td>Nissan</td>\n",
       "      <td>Automatic</td>\n",
       "      <td>Saudi</td>\n",
       "      <td>Standard</td>\n",
       "      <td>1998</td>\n",
       "      <td>3.5</td>\n",
       "      <td>3180003</td>\n",
       "      <td>10500</td>\n",
       "    </tr>\n",
       "    <tr>\n",
       "      <th>4652</th>\n",
       "      <td>6</td>\n",
       "      <td>Dammam</td>\n",
       "      <td>Mazda</td>\n",
       "      <td>Automatic</td>\n",
       "      <td>Saudi</td>\n",
       "      <td>Standard</td>\n",
       "      <td>2006</td>\n",
       "      <td>1.6</td>\n",
       "      <td>288000</td>\n",
       "      <td>11000</td>\n",
       "    </tr>\n",
       "    <tr>\n",
       "      <th>3292</th>\n",
       "      <td>Aveo</td>\n",
       "      <td>Makkah</td>\n",
       "      <td>Chevrolet</td>\n",
       "      <td>Automatic</td>\n",
       "      <td>Other</td>\n",
       "      <td>Semi Full</td>\n",
       "      <td>2014</td>\n",
       "      <td>1.6</td>\n",
       "      <td>1500000</td>\n",
       "      <td>11000</td>\n",
       "    </tr>\n",
       "    <tr>\n",
       "      <th>1635</th>\n",
       "      <td>Accord</td>\n",
       "      <td>Jeddah</td>\n",
       "      <td>Honda</td>\n",
       "      <td>Automatic</td>\n",
       "      <td>Gulf Arabic</td>\n",
       "      <td>Full</td>\n",
       "      <td>2005</td>\n",
       "      <td>2.4</td>\n",
       "      <td>300000</td>\n",
       "      <td>11000</td>\n",
       "    </tr>\n",
       "    <tr>\n",
       "      <th>2724</th>\n",
       "      <td>Cressida</td>\n",
       "      <td>Riyadh</td>\n",
       "      <td>Toyota</td>\n",
       "      <td>Manual</td>\n",
       "      <td>Saudi</td>\n",
       "      <td>Semi Full</td>\n",
       "      <td>1993</td>\n",
       "      <td>4.0</td>\n",
       "      <td>492000</td>\n",
       "      <td>11000</td>\n",
       "    </tr>\n",
       "    <tr>\n",
       "      <th>5462</th>\n",
       "      <td>Datsun</td>\n",
       "      <td>Riyadh</td>\n",
       "      <td>Nissan</td>\n",
       "      <td>Manual</td>\n",
       "      <td>Saudi</td>\n",
       "      <td>Standard</td>\n",
       "      <td>1989</td>\n",
       "      <td>2.4</td>\n",
       "      <td>249</td>\n",
       "      <td>11000</td>\n",
       "    </tr>\n",
       "    <tr>\n",
       "      <th>4394</th>\n",
       "      <td>Sunny</td>\n",
       "      <td>Riyadh</td>\n",
       "      <td>Nissan</td>\n",
       "      <td>Automatic</td>\n",
       "      <td>Saudi</td>\n",
       "      <td>Standard</td>\n",
       "      <td>2009</td>\n",
       "      <td>1.0</td>\n",
       "      <td>377000</td>\n",
       "      <td>11000</td>\n",
       "    </tr>\n",
       "    <tr>\n",
       "      <th>4372</th>\n",
       "      <td>Cressida</td>\n",
       "      <td>Al-Medina</td>\n",
       "      <td>Toyota</td>\n",
       "      <td>Manual</td>\n",
       "      <td>Saudi</td>\n",
       "      <td>Standard</td>\n",
       "      <td>1994</td>\n",
       "      <td>4.0</td>\n",
       "      <td>277000</td>\n",
       "      <td>11000</td>\n",
       "    </tr>\n",
       "    <tr>\n",
       "      <th>4262</th>\n",
       "      <td>Abeka</td>\n",
       "      <td>Jeddah</td>\n",
       "      <td>Chevrolet</td>\n",
       "      <td>Automatic</td>\n",
       "      <td>Saudi</td>\n",
       "      <td>Semi Full</td>\n",
       "      <td>2009</td>\n",
       "      <td>2.0</td>\n",
       "      <td>370000</td>\n",
       "      <td>11000</td>\n",
       "    </tr>\n",
       "    <tr>\n",
       "      <th>844</th>\n",
       "      <td>Elantra</td>\n",
       "      <td>Riyadh</td>\n",
       "      <td>Hyundai</td>\n",
       "      <td>Manual</td>\n",
       "      <td>Saudi</td>\n",
       "      <td>Standard</td>\n",
       "      <td>2009</td>\n",
       "      <td>1.0</td>\n",
       "      <td>4000</td>\n",
       "      <td>11000</td>\n",
       "    </tr>\n",
       "  </tbody>\n",
       "</table>\n",
       "</div>"
      ],
      "text/plain": [
       "            Type     Region       Make  Gear_Type       Origin    Options  \\\n",
       "915   Pathfinder     Riyadh     Nissan  Automatic        Saudi   Standard   \n",
       "4652           6     Dammam      Mazda  Automatic        Saudi   Standard   \n",
       "3292        Aveo     Makkah  Chevrolet  Automatic        Other  Semi Full   \n",
       "1635      Accord     Jeddah      Honda  Automatic  Gulf Arabic       Full   \n",
       "2724    Cressida     Riyadh     Toyota     Manual        Saudi  Semi Full   \n",
       "5462      Datsun     Riyadh     Nissan     Manual        Saudi   Standard   \n",
       "4394       Sunny     Riyadh     Nissan  Automatic        Saudi   Standard   \n",
       "4372    Cressida  Al-Medina     Toyota     Manual        Saudi   Standard   \n",
       "4262       Abeka     Jeddah  Chevrolet  Automatic        Saudi  Semi Full   \n",
       "844      Elantra     Riyadh    Hyundai     Manual        Saudi   Standard   \n",
       "\n",
       "      Year  Engine_Size  Mileage  Price  \n",
       "915   1998          3.5  3180003  10500  \n",
       "4652  2006          1.6   288000  11000  \n",
       "3292  2014          1.6  1500000  11000  \n",
       "1635  2005          2.4   300000  11000  \n",
       "2724  1993          4.0   492000  11000  \n",
       "5462  1989          2.4      249  11000  \n",
       "4394  2009          1.0   377000  11000  \n",
       "4372  1994          4.0   277000  11000  \n",
       "4262  2009          2.0   370000  11000  \n",
       "844   2009          1.0     4000  11000  "
      ]
     },
     "execution_count": 761,
     "metadata": {},
     "output_type": "execute_result"
    }
   ],
   "source": [
    "# Drop rows with price value < 10.000\n",
    "df = df[df['Price'] > 10000]\n",
    "df.head(10)"
   ]
  },
  {
   "cell_type": "markdown",
   "id": "3f9850ac",
   "metadata": {},
   "source": [
    "Selanjutnya untuk anomali pada fitur 'Mileage' dimana nilai maksimum seharusnya yang masuk akal untuk sebuah mobil yaitu 999.999, oleh karena itu akan dilakukan drop fitur 'Mileage' yang memiliki nilai > 999.999."
   ]
  },
  {
   "cell_type": "code",
   "execution_count": 762,
   "id": "fddf4440",
   "metadata": {},
   "outputs": [
    {
     "data": {
      "text/plain": [
       "12"
      ]
     },
     "execution_count": 762,
     "metadata": {},
     "output_type": "execute_result"
    }
   ],
   "source": [
    "# Check rows with mileage value > 999.999\n",
    "df[df['Mileage'] > 999999]['Mileage'].count()"
   ]
  },
  {
   "cell_type": "code",
   "execution_count": 763,
   "id": "794573d6",
   "metadata": {},
   "outputs": [
    {
     "data": {
      "text/html": [
       "<div>\n",
       "<style scoped>\n",
       "    .dataframe tbody tr th:only-of-type {\n",
       "        vertical-align: middle;\n",
       "    }\n",
       "\n",
       "    .dataframe tbody tr th {\n",
       "        vertical-align: top;\n",
       "    }\n",
       "\n",
       "    .dataframe thead th {\n",
       "        text-align: right;\n",
       "    }\n",
       "</style>\n",
       "<table border=\"1\" class=\"dataframe\">\n",
       "  <thead>\n",
       "    <tr style=\"text-align: right;\">\n",
       "      <th></th>\n",
       "      <th>Type</th>\n",
       "      <th>Region</th>\n",
       "      <th>Make</th>\n",
       "      <th>Gear_Type</th>\n",
       "      <th>Origin</th>\n",
       "      <th>Options</th>\n",
       "      <th>Year</th>\n",
       "      <th>Engine_Size</th>\n",
       "      <th>Mileage</th>\n",
       "      <th>Price</th>\n",
       "    </tr>\n",
       "  </thead>\n",
       "  <tbody>\n",
       "    <tr>\n",
       "      <th>4652</th>\n",
       "      <td>6</td>\n",
       "      <td>Dammam</td>\n",
       "      <td>Mazda</td>\n",
       "      <td>Automatic</td>\n",
       "      <td>Saudi</td>\n",
       "      <td>Standard</td>\n",
       "      <td>2006</td>\n",
       "      <td>1.6</td>\n",
       "      <td>288000</td>\n",
       "      <td>11000</td>\n",
       "    </tr>\n",
       "    <tr>\n",
       "      <th>1635</th>\n",
       "      <td>Accord</td>\n",
       "      <td>Jeddah</td>\n",
       "      <td>Honda</td>\n",
       "      <td>Automatic</td>\n",
       "      <td>Gulf Arabic</td>\n",
       "      <td>Full</td>\n",
       "      <td>2005</td>\n",
       "      <td>2.4</td>\n",
       "      <td>300000</td>\n",
       "      <td>11000</td>\n",
       "    </tr>\n",
       "    <tr>\n",
       "      <th>2724</th>\n",
       "      <td>Cressida</td>\n",
       "      <td>Riyadh</td>\n",
       "      <td>Toyota</td>\n",
       "      <td>Manual</td>\n",
       "      <td>Saudi</td>\n",
       "      <td>Semi Full</td>\n",
       "      <td>1993</td>\n",
       "      <td>4.0</td>\n",
       "      <td>492000</td>\n",
       "      <td>11000</td>\n",
       "    </tr>\n",
       "    <tr>\n",
       "      <th>5462</th>\n",
       "      <td>Datsun</td>\n",
       "      <td>Riyadh</td>\n",
       "      <td>Nissan</td>\n",
       "      <td>Manual</td>\n",
       "      <td>Saudi</td>\n",
       "      <td>Standard</td>\n",
       "      <td>1989</td>\n",
       "      <td>2.4</td>\n",
       "      <td>249</td>\n",
       "      <td>11000</td>\n",
       "    </tr>\n",
       "    <tr>\n",
       "      <th>4394</th>\n",
       "      <td>Sunny</td>\n",
       "      <td>Riyadh</td>\n",
       "      <td>Nissan</td>\n",
       "      <td>Automatic</td>\n",
       "      <td>Saudi</td>\n",
       "      <td>Standard</td>\n",
       "      <td>2009</td>\n",
       "      <td>1.0</td>\n",
       "      <td>377000</td>\n",
       "      <td>11000</td>\n",
       "    </tr>\n",
       "    <tr>\n",
       "      <th>4372</th>\n",
       "      <td>Cressida</td>\n",
       "      <td>Al-Medina</td>\n",
       "      <td>Toyota</td>\n",
       "      <td>Manual</td>\n",
       "      <td>Saudi</td>\n",
       "      <td>Standard</td>\n",
       "      <td>1994</td>\n",
       "      <td>4.0</td>\n",
       "      <td>277000</td>\n",
       "      <td>11000</td>\n",
       "    </tr>\n",
       "    <tr>\n",
       "      <th>4262</th>\n",
       "      <td>Abeka</td>\n",
       "      <td>Jeddah</td>\n",
       "      <td>Chevrolet</td>\n",
       "      <td>Automatic</td>\n",
       "      <td>Saudi</td>\n",
       "      <td>Semi Full</td>\n",
       "      <td>2009</td>\n",
       "      <td>2.0</td>\n",
       "      <td>370000</td>\n",
       "      <td>11000</td>\n",
       "    </tr>\n",
       "    <tr>\n",
       "      <th>844</th>\n",
       "      <td>Elantra</td>\n",
       "      <td>Riyadh</td>\n",
       "      <td>Hyundai</td>\n",
       "      <td>Manual</td>\n",
       "      <td>Saudi</td>\n",
       "      <td>Standard</td>\n",
       "      <td>2009</td>\n",
       "      <td>1.0</td>\n",
       "      <td>4000</td>\n",
       "      <td>11000</td>\n",
       "    </tr>\n",
       "    <tr>\n",
       "      <th>2150</th>\n",
       "      <td>Expedition</td>\n",
       "      <td>Makkah</td>\n",
       "      <td>Ford</td>\n",
       "      <td>Automatic</td>\n",
       "      <td>Other</td>\n",
       "      <td>Full</td>\n",
       "      <td>2003</td>\n",
       "      <td>5.4</td>\n",
       "      <td>364800</td>\n",
       "      <td>11000</td>\n",
       "    </tr>\n",
       "    <tr>\n",
       "      <th>3716</th>\n",
       "      <td>Camry</td>\n",
       "      <td>Riyadh</td>\n",
       "      <td>Toyota</td>\n",
       "      <td>Manual</td>\n",
       "      <td>Other</td>\n",
       "      <td>Full</td>\n",
       "      <td>2007</td>\n",
       "      <td>1.1</td>\n",
       "      <td>450000</td>\n",
       "      <td>11000</td>\n",
       "    </tr>\n",
       "  </tbody>\n",
       "</table>\n",
       "</div>"
      ],
      "text/plain": [
       "            Type     Region       Make  Gear_Type       Origin    Options  \\\n",
       "4652           6     Dammam      Mazda  Automatic        Saudi   Standard   \n",
       "1635      Accord     Jeddah      Honda  Automatic  Gulf Arabic       Full   \n",
       "2724    Cressida     Riyadh     Toyota     Manual        Saudi  Semi Full   \n",
       "5462      Datsun     Riyadh     Nissan     Manual        Saudi   Standard   \n",
       "4394       Sunny     Riyadh     Nissan  Automatic        Saudi   Standard   \n",
       "4372    Cressida  Al-Medina     Toyota     Manual        Saudi   Standard   \n",
       "4262       Abeka     Jeddah  Chevrolet  Automatic        Saudi  Semi Full   \n",
       "844      Elantra     Riyadh    Hyundai     Manual        Saudi   Standard   \n",
       "2150  Expedition     Makkah       Ford  Automatic        Other       Full   \n",
       "3716       Camry     Riyadh     Toyota     Manual        Other       Full   \n",
       "\n",
       "      Year  Engine_Size  Mileage  Price  \n",
       "4652  2006          1.6   288000  11000  \n",
       "1635  2005          2.4   300000  11000  \n",
       "2724  1993          4.0   492000  11000  \n",
       "5462  1989          2.4      249  11000  \n",
       "4394  2009          1.0   377000  11000  \n",
       "4372  1994          4.0   277000  11000  \n",
       "4262  2009          2.0   370000  11000  \n",
       "844   2009          1.0     4000  11000  \n",
       "2150  2003          5.4   364800  11000  \n",
       "3716  2007          1.1   450000  11000  "
      ]
     },
     "execution_count": 763,
     "metadata": {},
     "output_type": "execute_result"
    }
   ],
   "source": [
    "# Drop rows with mileage value > 999.999\n",
    "df = df[df['Mileage'] < 999999]\n",
    "df.head(10)"
   ]
  },
  {
   "cell_type": "code",
   "execution_count": 764,
   "id": "258bd6cc",
   "metadata": {},
   "outputs": [
    {
     "name": "stdout",
     "output_type": "stream",
     "text": [
      "<class 'pandas.core.frame.DataFrame'>\n",
      "Int64Index: 3691 entries, 4652 to 3513\n",
      "Data columns (total 10 columns):\n",
      " #   Column       Non-Null Count  Dtype  \n",
      "---  ------       --------------  -----  \n",
      " 0   Type         3691 non-null   object \n",
      " 1   Region       3691 non-null   object \n",
      " 2   Make         3691 non-null   object \n",
      " 3   Gear_Type    3691 non-null   object \n",
      " 4   Origin       3691 non-null   object \n",
      " 5   Options      3691 non-null   object \n",
      " 6   Year         3691 non-null   int64  \n",
      " 7   Engine_Size  3691 non-null   float64\n",
      " 8   Mileage      3691 non-null   int64  \n",
      " 9   Price        3691 non-null   int64  \n",
      "dtypes: float64(1), int64(3), object(6)\n",
      "memory usage: 317.2+ KB\n"
     ]
    }
   ],
   "source": [
    "# Final Check dataset info\n",
    "df.info()"
   ]
  },
  {
   "cell_type": "code",
   "execution_count": 765,
   "id": "e2715373",
   "metadata": {},
   "outputs": [
    {
     "data": {
      "text/html": [
       "<div>\n",
       "<style scoped>\n",
       "    .dataframe tbody tr th:only-of-type {\n",
       "        vertical-align: middle;\n",
       "    }\n",
       "\n",
       "    .dataframe tbody tr th {\n",
       "        vertical-align: top;\n",
       "    }\n",
       "\n",
       "    .dataframe thead th {\n",
       "        text-align: right;\n",
       "    }\n",
       "</style>\n",
       "<table border=\"1\" class=\"dataframe\">\n",
       "  <thead>\n",
       "    <tr style=\"text-align: right;\">\n",
       "      <th></th>\n",
       "      <th>Type</th>\n",
       "      <th>Region</th>\n",
       "      <th>Make</th>\n",
       "      <th>Gear_Type</th>\n",
       "      <th>Origin</th>\n",
       "      <th>Options</th>\n",
       "    </tr>\n",
       "  </thead>\n",
       "  <tbody>\n",
       "    <tr>\n",
       "      <th>count</th>\n",
       "      <td>3691</td>\n",
       "      <td>3691</td>\n",
       "      <td>3691</td>\n",
       "      <td>3691</td>\n",
       "      <td>3691</td>\n",
       "      <td>3691</td>\n",
       "    </tr>\n",
       "    <tr>\n",
       "      <th>unique</th>\n",
       "      <td>311</td>\n",
       "      <td>27</td>\n",
       "      <td>56</td>\n",
       "      <td>2</td>\n",
       "      <td>4</td>\n",
       "      <td>3</td>\n",
       "    </tr>\n",
       "    <tr>\n",
       "      <th>top</th>\n",
       "      <td>Land Cruiser</td>\n",
       "      <td>Riyadh</td>\n",
       "      <td>Toyota</td>\n",
       "      <td>Automatic</td>\n",
       "      <td>Saudi</td>\n",
       "      <td>Full</td>\n",
       "    </tr>\n",
       "    <tr>\n",
       "      <th>freq</th>\n",
       "      <td>146</td>\n",
       "      <td>1575</td>\n",
       "      <td>869</td>\n",
       "      <td>3314</td>\n",
       "      <td>2790</td>\n",
       "      <td>1438</td>\n",
       "    </tr>\n",
       "  </tbody>\n",
       "</table>\n",
       "</div>"
      ],
      "text/plain": [
       "                Type  Region    Make  Gear_Type Origin Options\n",
       "count           3691    3691    3691       3691   3691    3691\n",
       "unique           311      27      56          2      4       3\n",
       "top     Land Cruiser  Riyadh  Toyota  Automatic  Saudi    Full\n",
       "freq             146    1575     869       3314   2790    1438"
      ]
     },
     "execution_count": 765,
     "metadata": {},
     "output_type": "execute_result"
    }
   ],
   "source": [
    "# Summary Statistics for categorical variables\n",
    "df.describe(exclude=\"number\")"
   ]
  },
  {
   "cell_type": "markdown",
   "id": "234c26f1",
   "metadata": {},
   "source": [
    "Sesuai hasil summary statistic untuk categorical attribut mobil dengan tipe land cruiser menjadi mobil yang paling banyak dijual dan riyadh menjadi lokasi region yang paling popoular dalam jual beli mobil.\n",
    "\n",
    "Selanjutnya, kita akan mengecek distribusi data dan outliers untuk tiap numerikal fitur. Jika distribusinya memiliki skewness yang tinggi, salah satu cara yang dapat kita lakukan untuk menguranginya adalah dengan melakukan rekayasa pada tiap fiturnya."
   ]
  },
  {
   "cell_type": "markdown",
   "id": "81c0ab71",
   "metadata": {},
   "source": [
    "#### Outliers Detection"
   ]
  },
  {
   "cell_type": "markdown",
   "id": "4c05abd0",
   "metadata": {},
   "source": [
    "Banyaknya outliers pada data tentu akan memengaruhi hasil analisis dan pemodelan yang dilakukan. Ada beberapa hal yang harus dipertimbangkan sebelum memutuskan treatment yang sesuai dengan data, di antaranya adalah dengan mempertimbangkan sisi domain knowledge."
   ]
  },
  {
   "cell_type": "code",
   "execution_count": 766,
   "id": "ecd7c3f9",
   "metadata": {},
   "outputs": [
    {
     "data": {
      "image/png": "[encoded data removed]",
      "text/plain": [
       "<Figure size 1224x576 with 1 Axes>"
      ]
     },
     "metadata": {
      "needs_background": "light"
     },
     "output_type": "display_data"
    }
   ],
   "source": [
    "# Boxplot for check outliers\n",
    "df.boxplot(rot=90);"
   ]
  },
  {
   "cell_type": "markdown",
   "id": "38279226",
   "metadata": {},
   "source": [
    "Terlihat beberapa outliers pada dua fitur yaitu 'Mileage' dan 'Price'. Untuk membuat dataset yang lebih bersih dari outliers, akan dilakukan beberapa rekayasa pada fitur dengan mempertimbangkan kombinasi antara hasil dari metode IQR dan domain knowledge. Nantinya model yang dihasilkan hanya terbatas dapat memprediksi listing baru yang nilai-nilainya pada rentang data berdasarkan 'clean dataset' ini saja. Di luar rentang data, hasil prediksi dari model akan menjadi bias."
   ]
  },
  {
   "cell_type": "code",
   "execution_count": 767,
   "id": "4d480030",
   "metadata": {},
   "outputs": [
    {
     "data": {
      "text/plain": [
       "<AxesSubplot:xlabel='Mileage', ylabel='Price'>"
      ]
     },
     "execution_count": 767,
     "metadata": {},
     "output_type": "execute_result"
    },
    {
     "data": {
      "image/png": "[encoded data removed]",
      "text/plain": [
       "<Figure size 1224x576 with 1 Axes>"
      ]
     },
     "metadata": {
      "needs_background": "light"
     },
     "output_type": "display_data"
    }
   ],
   "source": [
    "sns.scatterplot(data=df, x=\"Mileage\", y=\"Price\")"
   ]
  },
  {
   "cell_type": "markdown",
   "id": "872846a4",
   "metadata": {},
   "source": [
    "Berdasarkan pengecekan untuk mengkonfirmasi apakah terdapat outlier yang merusak garis regresi dari scatter plot, didapatkan titik yang berpotensi merusak garis regresi, oleh karena itu lebih lanjut akan dilakukan drop data yang dikategorikan sebagai outlier melalui metode IQR."
   ]
  },
  {
   "cell_type": "code",
   "execution_count": 768,
   "id": "6ec68922",
   "metadata": {},
   "outputs": [],
   "source": [
    "# Function for checking outliers\n",
    "def find_anomalies(data):\n",
    "    q1 = data.quantile(0.25)\n",
    "    q3 = data.quantile(0.75)\n",
    "    iqr = q3 - q1\n",
    "    limit = iqr*1.5\n",
    "    print(f'IQR: {iqr}')\n",
    "\n",
    "    limit_bawah = q1 - limit\n",
    "    limit_atas = q3 + limit\n",
    "    print(f'limit_bawah: {limit_bawah}')\n",
    "    print(f'limit_atas: {limit_atas}')        "
   ]
  },
  {
   "cell_type": "code",
   "execution_count": 769,
   "id": "4b8bb500",
   "metadata": {},
   "outputs": [
    {
     "name": "stdout",
     "output_type": "stream",
     "text": [
      "IQR: 57500.0\n",
      "limit_bawah: -48750.0\n",
      "limit_atas: 181250.0\n"
     ]
    }
   ],
   "source": [
    "# Outliers in price attribute\n",
    "find_anomalies(df['Price'])"
   ]
  },
  {
   "cell_type": "code",
   "execution_count": 770,
   "id": "5091a86a",
   "metadata": {},
   "outputs": [
    {
     "name": "stdout",
     "output_type": "stream",
     "text": [
      "IQR: 131000.0\n",
      "limit_bawah: -147500.0\n",
      "limit_atas: 376500.0\n"
     ]
    }
   ],
   "source": [
    "# Outliers in mileage attribute\n",
    "find_anomalies(df['Mileage'])"
   ]
  },
  {
   "cell_type": "code",
   "execution_count": 771,
   "id": "66fbb0f7",
   "metadata": {},
   "outputs": [
    {
     "name": "stdout",
     "output_type": "stream",
     "text": [
      "IQR: 4.0\n",
      "limit_bawah: 2008.0\n",
      "limit_atas: 2024.0\n"
     ]
    }
   ],
   "source": [
    "# Outliers in year attribute\n",
    "find_anomalies(df['Year'])"
   ]
  },
  {
   "cell_type": "code",
   "execution_count": 772,
   "id": "28ae1e87",
   "metadata": {},
   "outputs": [
    {
     "name": "stdout",
     "output_type": "stream",
     "text": [
      "IQR: 2.0\n",
      "limit_bawah: -1.0\n",
      "limit_atas: 7.0\n"
     ]
    }
   ],
   "source": [
    "# Outliers in engine size attribute\n",
    "find_anomalies(df['Engine_Size'])"
   ]
  },
  {
   "cell_type": "markdown",
   "id": "6c0af616",
   "metadata": {},
   "source": [
    "Selanjutnya dilakukan feature engineering terhadap fitur - fitur numerikal tersebut."
   ]
  },
  {
   "cell_type": "markdown",
   "id": "20c38f07",
   "metadata": {},
   "source": [
    "#### Kolom Price"
   ]
  },
  {
   "cell_type": "code",
   "execution_count": 773,
   "id": "2552fbb8",
   "metadata": {},
   "outputs": [
    {
     "data": {
      "text/plain": [
       "count      3691.000000\n",
       "mean      80555.787862\n",
       "std       72744.201744\n",
       "min       11000.000000\n",
       "25%       37500.000000\n",
       "50%       60000.000000\n",
       "75%       95000.000000\n",
       "max      850000.000000\n",
       "Name: Price, dtype: float64"
      ]
     },
     "execution_count": 773,
     "metadata": {},
     "output_type": "execute_result"
    }
   ],
   "source": [
    "# Check deskriptif statistik kolom price\n",
    "df['Price'].describe()"
   ]
  },
  {
   "cell_type": "code",
   "execution_count": 774,
   "id": "5ac7360d",
   "metadata": {},
   "outputs": [
    {
     "data": {
      "text/plain": [
       "262"
      ]
     },
     "execution_count": 774,
     "metadata": {},
     "output_type": "execute_result"
    }
   ],
   "source": [
    "# Check price > 181250\n",
    "df[df['Price'] > 181250].count()['Price']"
   ]
  },
  {
   "cell_type": "markdown",
   "id": "96d6bfc5",
   "metadata": {},
   "source": [
    "Terlihat bahwa 93 % data pada kolom price bernilai kurang dari 181.250, dengan nilai maksimal 850.000. Terdapat skewness pada distribusinya, yaitu tail yang memanjang di sebelah kanan (positive skewness). \n",
    "\n",
    "Terdapat 262 atau 7,09 % dari total data yang nilai price-nya lebih besar dari  181.250 (Limit atas sesuai metode IQR). Oleh karena itu data yang memiliki nilai price > 181.250 tidak akan dimasukkan ke dalam pemodelan, sehingga skewness-nya pun akan berkurang. Hal ini tentu akan menjadi limitasi untuk model yang nantinya dibangun."
   ]
  },
  {
   "cell_type": "code",
   "execution_count": 775,
   "id": "752191b1",
   "metadata": {},
   "outputs": [
    {
     "data": {
      "text/plain": [
       "<AxesSubplot:xlabel='Price', ylabel='Density'>"
      ]
     },
     "execution_count": 775,
     "metadata": {},
     "output_type": "execute_result"
    },
    {
     "data": {
      "image/png": "[encoded data removed]",
      "text/plain": [
       "<Figure size 1512x432 with 1 Axes>"
      ]
     },
     "metadata": {
      "needs_background": "light"
     },
     "output_type": "display_data"
    }
   ],
   "source": [
    "# Before Filter\n",
    "fig = plt.subplots(1, figsize=(21, 6))\n",
    "sns.distplot(df['Price'])"
   ]
  },
  {
   "cell_type": "code",
   "execution_count": 776,
   "id": "460c5771",
   "metadata": {},
   "outputs": [
    {
     "data": {
      "text/plain": [
       "<AxesSubplot:xlabel='Price', ylabel='Density'>"
      ]
     },
     "execution_count": 776,
     "metadata": {},
     "output_type": "execute_result"
    },
    {
     "data": {
      "image/png": "[encoded data removed]",
      "text/plain": [
       "<Figure size 1512x432 with 1 Axes>"
      ]
     },
     "metadata": {
      "needs_background": "light"
     },
     "output_type": "display_data"
    }
   ],
   "source": [
    "# Melakukan filtering pada data\n",
    "df = df[(df['Price'] <= 181250)]\n",
    "\n",
    "# After filtering\n",
    "fig = plt.subplots(1, figsize=(21, 6))\n",
    "sns.distplot(df['Price'])"
   ]
  },
  {
   "cell_type": "markdown",
   "id": "6e487ab8",
   "metadata": {},
   "source": [
    "#### Kolom Mileage"
   ]
  },
  {
   "cell_type": "code",
   "execution_count": 777,
   "id": "6433e7ab",
   "metadata": {},
   "outputs": [
    {
     "data": {
      "text/plain": [
       "count      3429.000000\n",
       "mean     133000.362788\n",
       "std      110630.896928\n",
       "min         100.000000\n",
       "25%       55000.000000\n",
       "50%      109000.000000\n",
       "75%      190000.000000\n",
       "max      900000.000000\n",
       "Name: Mileage, dtype: float64"
      ]
     },
     "execution_count": 777,
     "metadata": {},
     "output_type": "execute_result"
    }
   ],
   "source": [
    "# Check deskriptif statistik kolom mileage\n",
    "df['Mileage'].describe()"
   ]
  },
  {
   "cell_type": "code",
   "execution_count": 778,
   "id": "0baca541",
   "metadata": {},
   "outputs": [
    {
     "data": {
      "text/plain": [
       "118"
      ]
     },
     "execution_count": 778,
     "metadata": {},
     "output_type": "execute_result"
    }
   ],
   "source": [
    "# Check Mileage > 376500\n",
    "df[df['Mileage'] > 376500].count()['Mileage']"
   ]
  },
  {
   "cell_type": "markdown",
   "id": "5d0dc9f2",
   "metadata": {},
   "source": [
    "Terlihat bahwa 97,6 % data pada kolom mileage bernilai kurang dari 376.500, dengan nilai maksimal 900.000. Terdapat skewness pada distribusinya, yaitu tail yang memanjang di sebelah kanan (positive skewness).\n",
    "\n",
    "Terdapat 118 atau 3,44 % dari total data yang nilai mileage-nya lebih besar dari 376.500 (Limit atas sesuai metode IQR). Oleh karena itu data yang memiliki nilai mileage > 376.500 tidak akan dimasukkan ke dalam pemodelan, sehingga skewness-nya pun akan berkurang. Hal ini tentu akan menjadi limitasi untuk model yang nantinya dibangun."
   ]
  },
  {
   "cell_type": "code",
   "execution_count": 779,
   "id": "858d856b",
   "metadata": {},
   "outputs": [
    {
     "data": {
      "text/plain": [
       "<AxesSubplot:xlabel='Mileage', ylabel='Density'>"
      ]
     },
     "execution_count": 779,
     "metadata": {},
     "output_type": "execute_result"
    },
    {
     "data": {
      "image/png": "[encoded data removed]",
      "text/plain": [
       "<Figure size 1512x432 with 1 Axes>"
      ]
     },
     "metadata": {
      "needs_background": "light"
     },
     "output_type": "display_data"
    }
   ],
   "source": [
    "# Before Filter\n",
    "fig = plt.subplots(1, figsize=(21, 6))\n",
    "sns.distplot(df['Mileage'])"
   ]
  },
  {
   "cell_type": "code",
   "execution_count": 780,
   "id": "39820929",
   "metadata": {},
   "outputs": [
    {
     "data": {
      "text/plain": [
       "<AxesSubplot:xlabel='Price', ylabel='Density'>"
      ]
     },
     "execution_count": 780,
     "metadata": {},
     "output_type": "execute_result"
    },
    {
     "data": {
      "image/png": "[encoded data removed]",
      "text/plain": [
       "<Figure size 1512x432 with 1 Axes>"
      ]
     },
     "metadata": {
      "needs_background": "light"
     },
     "output_type": "display_data"
    }
   ],
   "source": [
    "# Melakukan filtering pada data\n",
    "df = df[(df['Price'] <= 181250)]\n",
    "\n",
    "# After filtering\n",
    "fig = plt.subplots(1, figsize=(21, 6))\n",
    "sns.distplot(df['Price'])"
   ]
  },
  {
   "cell_type": "markdown",
   "id": "dd4f4c71",
   "metadata": {},
   "source": [
    "#### Clean Dataset"
   ]
  },
  {
   "cell_type": "code",
   "execution_count": 781,
   "id": "9ef8e984",
   "metadata": {},
   "outputs": [
    {
     "data": {
      "image/png": "[encoded data removed]",
      "text/plain": [
       "<Figure size 1224x576 with 1 Axes>"
      ]
     },
     "metadata": {
      "needs_background": "light"
     },
     "output_type": "display_data"
    }
   ],
   "source": [
    "# Boxplot for check outliers\n",
    "df.boxplot(rot=90);"
   ]
  },
  {
   "cell_type": "code",
   "execution_count": 782,
   "id": "a81dca33",
   "metadata": {},
   "outputs": [
    {
     "data": {
      "text/plain": [
       "<AxesSubplot:xlabel='Mileage', ylabel='Price'>"
      ]
     },
     "execution_count": 782,
     "metadata": {},
     "output_type": "execute_result"
    },
    {
     "data": {
      "image/png": "[encoded data removed]",
      "text/plain": [
       "<Figure size 1224x576 with 1 Axes>"
      ]
     },
     "metadata": {
      "needs_background": "light"
     },
     "output_type": "display_data"
    }
   ],
   "source": [
    "sns.scatterplot(data=df, x=\"Mileage\", y=\"Price\")"
   ]
  },
  {
   "cell_type": "code",
   "execution_count": 783,
   "id": "e80e8183",
   "metadata": {},
   "outputs": [
    {
     "data": {
      "text/html": [
       "<div>\n",
       "<style scoped>\n",
       "    .dataframe tbody tr th:only-of-type {\n",
       "        vertical-align: middle;\n",
       "    }\n",
       "\n",
       "    .dataframe tbody tr th {\n",
       "        vertical-align: top;\n",
       "    }\n",
       "\n",
       "    .dataframe thead th {\n",
       "        text-align: right;\n",
       "    }\n",
       "</style>\n",
       "<table border=\"1\" class=\"dataframe\">\n",
       "  <thead>\n",
       "    <tr style=\"text-align: right;\">\n",
       "      <th></th>\n",
       "      <th>Type</th>\n",
       "      <th>Region</th>\n",
       "      <th>Make</th>\n",
       "      <th>Gear_Type</th>\n",
       "      <th>Origin</th>\n",
       "      <th>Options</th>\n",
       "      <th>Year</th>\n",
       "      <th>Engine_Size</th>\n",
       "      <th>Mileage</th>\n",
       "      <th>Price</th>\n",
       "    </tr>\n",
       "  </thead>\n",
       "  <tbody>\n",
       "    <tr>\n",
       "      <th>4652</th>\n",
       "      <td>6</td>\n",
       "      <td>Dammam</td>\n",
       "      <td>Mazda</td>\n",
       "      <td>Automatic</td>\n",
       "      <td>Saudi</td>\n",
       "      <td>Standard</td>\n",
       "      <td>2006</td>\n",
       "      <td>1.6</td>\n",
       "      <td>288000</td>\n",
       "      <td>11000</td>\n",
       "    </tr>\n",
       "    <tr>\n",
       "      <th>1635</th>\n",
       "      <td>Accord</td>\n",
       "      <td>Jeddah</td>\n",
       "      <td>Honda</td>\n",
       "      <td>Automatic</td>\n",
       "      <td>Gulf Arabic</td>\n",
       "      <td>Full</td>\n",
       "      <td>2005</td>\n",
       "      <td>2.4</td>\n",
       "      <td>300000</td>\n",
       "      <td>11000</td>\n",
       "    </tr>\n",
       "    <tr>\n",
       "      <th>2724</th>\n",
       "      <td>Cressida</td>\n",
       "      <td>Riyadh</td>\n",
       "      <td>Toyota</td>\n",
       "      <td>Manual</td>\n",
       "      <td>Saudi</td>\n",
       "      <td>Semi Full</td>\n",
       "      <td>1993</td>\n",
       "      <td>4.0</td>\n",
       "      <td>492000</td>\n",
       "      <td>11000</td>\n",
       "    </tr>\n",
       "    <tr>\n",
       "      <th>5462</th>\n",
       "      <td>Datsun</td>\n",
       "      <td>Riyadh</td>\n",
       "      <td>Nissan</td>\n",
       "      <td>Manual</td>\n",
       "      <td>Saudi</td>\n",
       "      <td>Standard</td>\n",
       "      <td>1989</td>\n",
       "      <td>2.4</td>\n",
       "      <td>249</td>\n",
       "      <td>11000</td>\n",
       "    </tr>\n",
       "    <tr>\n",
       "      <th>4394</th>\n",
       "      <td>Sunny</td>\n",
       "      <td>Riyadh</td>\n",
       "      <td>Nissan</td>\n",
       "      <td>Automatic</td>\n",
       "      <td>Saudi</td>\n",
       "      <td>Standard</td>\n",
       "      <td>2009</td>\n",
       "      <td>1.0</td>\n",
       "      <td>377000</td>\n",
       "      <td>11000</td>\n",
       "    </tr>\n",
       "  </tbody>\n",
       "</table>\n",
       "</div>"
      ],
      "text/plain": [
       "          Type  Region    Make  Gear_Type       Origin    Options  Year  \\\n",
       "4652         6  Dammam   Mazda  Automatic        Saudi   Standard  2006   \n",
       "1635    Accord  Jeddah   Honda  Automatic  Gulf Arabic       Full  2005   \n",
       "2724  Cressida  Riyadh  Toyota     Manual        Saudi  Semi Full  1993   \n",
       "5462    Datsun  Riyadh  Nissan     Manual        Saudi   Standard  1989   \n",
       "4394     Sunny  Riyadh  Nissan  Automatic        Saudi   Standard  2009   \n",
       "\n",
       "      Engine_Size  Mileage  Price  \n",
       "4652          1.6   288000  11000  \n",
       "1635          2.4   300000  11000  \n",
       "2724          4.0   492000  11000  \n",
       "5462          2.4      249  11000  \n",
       "4394          1.0   377000  11000  "
      ]
     },
     "execution_count": 783,
     "metadata": {},
     "output_type": "execute_result"
    }
   ],
   "source": [
    "df.head()"
   ]
  },
  {
   "cell_type": "code",
   "execution_count": 784,
   "id": "0ecfc06e",
   "metadata": {},
   "outputs": [
    {
     "name": "stdout",
     "output_type": "stream",
     "text": [
      "<class 'pandas.core.frame.DataFrame'>\n",
      "Int64Index: 3429 entries, 4652 to 2522\n",
      "Data columns (total 10 columns):\n",
      " #   Column       Non-Null Count  Dtype  \n",
      "---  ------       --------------  -----  \n",
      " 0   Type         3429 non-null   object \n",
      " 1   Region       3429 non-null   object \n",
      " 2   Make         3429 non-null   object \n",
      " 3   Gear_Type    3429 non-null   object \n",
      " 4   Origin       3429 non-null   object \n",
      " 5   Options      3429 non-null   object \n",
      " 6   Year         3429 non-null   int64  \n",
      " 7   Engine_Size  3429 non-null   float64\n",
      " 8   Mileage      3429 non-null   int64  \n",
      " 9   Price        3429 non-null   int64  \n",
      "dtypes: float64(1), int64(3), object(6)\n",
      "memory usage: 294.7+ KB\n"
     ]
    }
   ],
   "source": [
    "df.info()"
   ]
  },
  {
   "cell_type": "markdown",
   "id": "cc7210c8",
   "metadata": {},
   "source": [
    "Pada akhirnya, tersisa 3.429 baris data dari sebelumnya 5.624 baris data yang akan digunakan untuk pemodelan. Ini berarti terdapat 2.195 baris data atau 39,02 % data sudah tereliminasi sesuai dengan asumsi dan argumen yang disampaikan di proses-proses sebelumnya."
   ]
  },
  {
   "cell_type": "markdown",
   "id": "2eb9fa70",
   "metadata": {},
   "source": [
    "#### Data Correlation"
   ]
  },
  {
   "cell_type": "markdown",
   "id": "44e65040",
   "metadata": {},
   "source": [
    "Selanjutnya sebelum melakukan uji korelasi untuk mengetahui fitur mana saja yang memiliki korelasi yang kuat dengan target price dan setelah dilakukan penyesuaian terhadap outlier pada tahap sebelumnya agar terdistribusi normal sesuai batasan hasil metode IQR, selanjutya dilakukan pembuktian uji distribusi data menggunakan Shapiro Wilk Test. Shapiro Wilk Test digunakan karena merupakan metode yang sangat baik untuk menguji distribusi sebuah data."
   ]
  },
  {
   "cell_type": "code",
   "execution_count": 785,
   "id": "17ae5104",
   "metadata": {},
   "outputs": [
    {
     "name": "stdout",
     "output_type": "stream",
     "text": [
      "Data Tidak Terdistribusi Normal\n"
     ]
    }
   ],
   "source": [
    "# Shapiro wilk test\n",
    "from scipy.stats import shapiro\n",
    "\n",
    "stats, pvalue = shapiro(df['Price'])\n",
    "\n",
    "if pvalue > 0.05:\n",
    "    print(\"Data Terdistribusi Normal\")\n",
    "else:\n",
    "    print(\"Data Tidak Terdistribusi Normal\")"
   ]
  },
  {
   "cell_type": "markdown",
   "id": "67bccda3",
   "metadata": {},
   "source": [
    "Sesuai hasi shapiro wilk test didapatkan pvalue < 0.05 maka data tidak terdistribusi normal. oleh karena data tidak terdistribusi normal maka untuk uji korelasi akan menggunakan metode uji korelasi spearman."
   ]
  },
  {
   "cell_type": "code",
   "execution_count": 786,
   "id": "27823f20",
   "metadata": {},
   "outputs": [
    {
     "data": {
      "image/png": "[encoded data removed]",
      "text/plain": [
       "<Figure size 1080x864 with 2 Axes>"
      ]
     },
     "metadata": {
      "needs_background": "light"
     },
     "output_type": "display_data"
    }
   ],
   "source": [
    "# Correlation matrix\n",
    "plt.figure(figsize=(15, 12))\n",
    "palette=sns.diverging_palette(20, 220, n=256)\n",
    "corr = df.corr(method='spearman')\n",
    "sns.heatmap(corr, annot=True, fmt='.2f', cmap=palette, square=True, linewidths=.5)\n",
    "plt.title('Correlation Matrix', size=15, weight='bold');"
   ]
  },
  {
   "cell_type": "markdown",
   "id": "7b7320e4",
   "metadata": {},
   "source": [
    "Correlation matrix menunjukkan bahwa tidak ada fitur yang memiliki korelasi yang sangat kuat terhadap fitur 'price'. Korelasi paling tinggi dimiliki oleh fitur 'year', di mana korelasinya adalah korelasi positif dengan nilai 0,41. Ini berarti semakin tinggi tahun mobil / semakin muda tahun mobil, maka harga mobil pun semakin mahal."
   ]
  },
  {
   "cell_type": "markdown",
   "id": "ca0dc3a8",
   "metadata": {},
   "source": [
    "### Exploratory Data Analysis (EDA)"
   ]
  },
  {
   "cell_type": "markdown",
   "id": "f842e171",
   "metadata": {},
   "source": [
    "Pada tahap EDA ini dilakukan bertujuan untuk mendapatkan beberapa insight atas dataset yang akan dibuatkan model machine learningnya untuk memperkuat pemahaman atas data yang ada."
   ]
  },
  {
   "cell_type": "code",
   "execution_count": 787,
   "id": "5463a6f7",
   "metadata": {},
   "outputs": [
    {
     "data": {
      "image/png": "[encoded data removed]",
      "text/plain": [
       "<Figure size 1152x648 with 3 Axes>"
      ]
     },
     "metadata": {
      "needs_background": "light"
     },
     "output_type": "display_data"
    }
   ],
   "source": [
    "plt.figure(figsize=(16,9))\n",
    "\n",
    "plt.subplot(1,3,1)\n",
    "plt1 = df.Gear_Type.value_counts().plot(kind='bar')\n",
    "plt.title('Gear Type of Cars')\n",
    "plt1.set(xlabel = 'Gear Type', ylabel='Count of Cars')\n",
    "\n",
    "plt.subplot(1,3,2)\n",
    "plt2 = df.Origin.value_counts().plot(kind='bar')\n",
    "plt.title('Origin of Cars')\n",
    "plt2.set(xlabel = 'Origin', ylabel='Count of Cars')\n",
    "\n",
    "plt.subplot(1,3,3)\n",
    "plt3 = df.Options.value_counts().plot(kind='bar')\n",
    "plt.title('Car Options')\n",
    "plt3.set(xlabel = 'Car Options', ylabel='Count of Cars')\n",
    "\n",
    "plt.show()"
   ]
  },
  {
   "cell_type": "markdown",
   "id": "d42427b6",
   "metadata": {},
   "source": [
    "Berdasarkan grafik, didapatkan bahwa:\n",
    "1. Mobil dengan gear type automatic masih menjadi favorit dalam penjualan mobil salah satunya mungkin karena kemudahan dalam mengendari mobil dengan gear type automatic.\n",
    "2. Mobil dengan origin wilayah saudi menjadi yang terbanyak dibanding daerah lainnya.\n",
    "3. Options mobil yang masih standar masih yang tertinggi dibanding mobil yang sudah full modifikasi dan semi full modifikasi, walaupun untuk mobil yang sudah full modifikasi pun cukup tinggi jumlahnya."
   ]
  },
  {
   "cell_type": "code",
   "execution_count": 788,
   "id": "b5cd7d1a",
   "metadata": {},
   "outputs": [
    {
     "data": {
      "text/plain": [
       "<Figure size 1584x576 with 0 Axes>"
      ]
     },
     "metadata": {},
     "output_type": "display_data"
    },
    {
     "data": {
      "image/png": "[encoded data removed]",
      "text/plain": [
       "<Figure size 1224x576 with 1 Axes>"
      ]
     },
     "metadata": {
      "needs_background": "light"
     },
     "output_type": "display_data"
    }
   ],
   "source": [
    "plt.figure(figsize=(22,8))\n",
    "\n",
    "ax = pd.DataFrame(df.groupby(['Gear_Type'])['Price'].mean().sort_values(ascending = False))\n",
    "ax.plot.bar()\n",
    "plt.title('Gear Type vs Average Price')\n",
    "plt.show()"
   ]
  },
  {
   "cell_type": "markdown",
   "id": "cd32b728",
   "metadata": {},
   "source": [
    "Sesuai grafik diatas didapatkan bahwa sistem transmisi (Gear Type) dapat berpengaruh terhadap harga mobil dimana rata - rata harga mobil untuk mobil dengan sistem transmisi automatic memiliki harga rata rata yang lebih tinggi dibanding mobil dengan transmisi manual."
   ]
  },
  {
   "cell_type": "code",
   "execution_count": 789,
   "id": "8882e675",
   "metadata": {},
   "outputs": [
    {
     "data": {
      "text/plain": [
       "<Figure size 1584x576 with 0 Axes>"
      ]
     },
     "metadata": {},
     "output_type": "display_data"
    },
    {
     "data": {
      "image/png": "[encoded data removed]",
      "text/plain": [
       "<Figure size 1224x576 with 1 Axes>"
      ]
     },
     "metadata": {
      "needs_background": "light"
     },
     "output_type": "display_data"
    }
   ],
   "source": [
    "plt.figure(figsize=(22,8))\n",
    "\n",
    "ax = pd.DataFrame(df.groupby(['Origin'])['Price'].mean().sort_values(ascending = False))\n",
    "ax.plot.bar()\n",
    "plt.title('Origin vs Average Price')\n",
    "plt.show()"
   ]
  },
  {
   "cell_type": "markdown",
   "id": "0d58f403",
   "metadata": {},
   "source": [
    "Sesuai grafik diatas didapatkan bahwa asal lokasi mobil dapat berpengaruh terhadap harga mobil dimana rata - rata harga mobil untuk mobil dari gulf arabic memiliki harga rata rata yang lebih tinggi dibanding mobil dari daerah lainnya."
   ]
  },
  {
   "cell_type": "code",
   "execution_count": 790,
   "id": "24f74eb7",
   "metadata": {
    "scrolled": false
   },
   "outputs": [
    {
     "data": {
      "text/plain": [
       "<Figure size 1584x576 with 0 Axes>"
      ]
     },
     "metadata": {},
     "output_type": "display_data"
    },
    {
     "data": {
      "image/png": "[encoded data removed]",
      "text/plain": [
       "<Figure size 1224x576 with 1 Axes>"
      ]
     },
     "metadata": {
      "needs_background": "light"
     },
     "output_type": "display_data"
    }
   ],
   "source": [
    "plt.figure(figsize=(22,8))\n",
    "\n",
    "ax = pd.DataFrame(df.groupby(['Options'])['Price'].mean().sort_values(ascending = False))\n",
    "ax.plot.bar()\n",
    "plt.title('Car Options vs Average Price')\n",
    "plt.show()"
   ]
  },
  {
   "cell_type": "markdown",
   "id": "986158ac",
   "metadata": {},
   "source": [
    "Sesuai grafik diatas didapatkan bahwa kondisi modifikasi mobil dapat berpengaruh terhadap harga mobil dimana rata - rata harga mobil untuk mobil yang sudah di full modifikasi memiliki harga rata rata yang lebih tinggi dibanding mobil yang hanya sebagian dimodifikasi bahkan yang belum modifikasi."
   ]
  },
  {
   "cell_type": "code",
   "execution_count": 791,
   "id": "ef4c1c8f",
   "metadata": {},
   "outputs": [
    {
     "data": {
      "text/plain": [
       "Text(0, 0.5, 'Count of Cars')"
      ]
     },
     "execution_count": 791,
     "metadata": {},
     "output_type": "execute_result"
    },
    {
     "data": {
      "image/png": "[encoded data removed]",
      "text/plain": [
       "<Figure size 1584x720 with 1 Axes>"
      ]
     },
     "metadata": {
      "needs_background": "light"
     },
     "output_type": "display_data"
    }
   ],
   "source": [
    "plt.figure(figsize=(22,10))\n",
    "ax = df['Make'].value_counts().plot(kind='bar', colormap = 'Accent')\n",
    "ax.title.set_text('Cars per company')\n",
    "plt.xlabel(\"Car Company\",fontweight = 'bold')\n",
    "plt.ylabel(\"Count of Cars\",fontweight = 'bold')"
   ]
  },
  {
   "cell_type": "markdown",
   "id": "9a6af74d",
   "metadata": {},
   "source": [
    "Berdasarkan grafik, didapatkan bahwa:\n",
    "1. Toyota menjadi merk dengan penjualan mobil tertinggi\n",
    "2. Lifan menjadi merk dengan penjualan mobil terrendah"
   ]
  },
  {
   "cell_type": "code",
   "execution_count": 792,
   "id": "ae9f7c92",
   "metadata": {
    "scrolled": false
   },
   "outputs": [
    {
     "data": {
      "text/plain": [
       "<Figure size 1584x576 with 0 Axes>"
      ]
     },
     "metadata": {},
     "output_type": "display_data"
    },
    {
     "data": {
      "image/png": "[encoded data removed]",
      "text/plain": [
       "<Figure size 1224x576 with 1 Axes>"
      ]
     },
     "metadata": {
      "needs_background": "light"
     },
     "output_type": "display_data"
    }
   ],
   "source": [
    "plt.figure(figsize=(22,8))\n",
    "\n",
    "ax = pd.DataFrame(df.groupby(['Make'])['Price'].mean().sort_values(ascending = False))\n",
    "ax.plot.bar()\n",
    "plt.title('Merk vs Average Price')\n",
    "plt.show()"
   ]
  },
  {
   "cell_type": "markdown",
   "id": "67054abc",
   "metadata": {},
   "source": [
    "Dari grafik diatas jika dihubungkan dengan dana perhitungan jumlah mobil bahwa harga rata - rata mobil yang tinggi tinggi berbanding lurus dengan jumlah penjualan mobil. Hal tersebut dikarenakan dari masing - masing merk tersebut mempunyai segmentasi pelanggannya masing - masing seperti Aston Martin yang memiliki harga rata - rata mobil yang paling tinggi namun secara penjualan jumlah mobil berada di urutan 10 terbawah karena mobil dengan merk Aston Martin memiliki segmen pelanggan masyarakat kelas atas (ekonomi tinggi) dan mengusung spesifikasi yang mewah dan ekslusif untuk pelanggan. Sedangkan untuk toyota dengan penjualan tertinggi hanya memiliki harga rata - rata mobil yang berada di peringkat tengah karena memang segmen pelanggan lebih luas salah satunya yang terbanyak yaitu mengusung konsep mobil keluarga yang banyak diminati untuk masyarakat kelas menengah dimana melihat mobil secara kebutuhan untuk berpergian bersama keluarga dibanding sebagai barang mewah (Collector Item) "
   ]
  },
  {
   "cell_type": "code",
   "execution_count": 793,
   "id": "ed179c70",
   "metadata": {},
   "outputs": [
    {
     "data": {
      "text/plain": [
       "<Figure size 1584x576 with 0 Axes>"
      ]
     },
     "metadata": {},
     "output_type": "display_data"
    },
    {
     "data": {
      "image/png": "[encoded data removed]",
      "text/plain": [
       "<Figure size 1224x576 with 1 Axes>"
      ]
     },
     "metadata": {
      "needs_background": "light"
     },
     "output_type": "display_data"
    }
   ],
   "source": [
    "plt.figure(figsize=(22,8))\n",
    "\n",
    "ax = pd.DataFrame(df.groupby(['Region'])['Price'].mean().sort_values(ascending = False))\n",
    "ax.plot.bar()\n",
    "plt.title('Region vs Average Price')\n",
    "plt.show()"
   ]
  },
  {
   "cell_type": "markdown",
   "id": "56a8cecd",
   "metadata": {},
   "source": [
    "'Sakaka' dan 'Dammam' menjadi region dengan rata - rata penjualan mobil tertinggi yaitu lebih dari 70.000"
   ]
  },
  {
   "cell_type": "markdown",
   "id": "ae17f20c",
   "metadata": {},
   "source": [
    "Berdasarkan hasil analisis melalui data preprocessing dan EDA terdapat 1 fitur yang tidak digunakan dalam modeling dikarenakan dianggap tidak relevan sebagai penentu harga mobil yaitu 'Negotiable'. Sedangkan fitur lainnya digunakan untuk modeling karena dianggap berpengaruh terhadap penentu harga mobil.\n",
    "\n",
    "Untuk numerikal fitur seperti 'Year', 'Engine_Size' dan 'Mileage' sesuai hasil yang ditunjukkan dalam correaltion matrix didapatkan hubungan antara ketiga variabel tersebut dengan fitur 'Price'.\n",
    "\n",
    "Untuk categorical fitur seperti 'Type', 'Region', 'Make', 'Gear_type', 'Origin' dan 'Options' sesuai hasil yang ditunjukkan dala EDA didapatkan bahwa perbedaan nilai dalam masing - masing variabel tersebut dapat berpengaruh terhadap rata - rata harga mobil. Oleh karena itu variabel - variabel tersebut akan digunakan untuk modeling namun sebelum itu akan dilakukan encoding agar data dapat diolah dalam modeling."
   ]
  },
  {
   "cell_type": "markdown",
   "id": "ad95f8be",
   "metadata": {},
   "source": [
    "Sesuai permasalahan awal yang telah diidentifikasi bahwa bagaimana mendapatkan harga yang sesuai dari seluruh fitur - fitur yang ada, maka berdasarkan hasil sampai proses ini hanya fitur 'Negotiable' saja yang tidak relevan digunakan sedangkan untuk fitur selain itu didapatkan adanya hubungan antara variabel - variabel tersebut dengan fitur 'Price'. Oleh karena itu untuk variabel - variabel yang ditemukan adanya hubungan dengan fitur 'Price' akan diolah untuk digunakan dalam model machine learning untuk menyelesaikan permasalahan dalam menentukan harga mobil yang sesuai dengan spesifikasi yang ada."
   ]
  },
  {
   "cell_type": "markdown",
   "id": "85e4519d",
   "metadata": {},
   "source": [
    "### Modeling"
   ]
  },
  {
   "cell_type": "code",
   "execution_count": 794,
   "id": "e7626316",
   "metadata": {},
   "outputs": [],
   "source": [
    "# Import library for modeling\n",
    "\n",
    "from sklearn.model_selection import train_test_split, cross_val_score, RandomizedSearchCV, GridSearchCV, KFold, StratifiedKFold\n",
    "\n",
    "import category_encoders as ce\n",
    "from sklearn.preprocessing import OneHotEncoder\n",
    "from sklearn.compose import ColumnTransformer\n",
    "from sklearn.pipeline import Pipeline\n",
    "\n",
    "from sklearn.linear_model import LinearRegression\n",
    "from sklearn.neighbors import KNeighborsRegressor\n",
    "from sklearn.tree import DecisionTreeRegressor\n",
    "from sklearn.ensemble import RandomForestRegressor\n",
    "from xgboost.sklearn import XGBRegressor\n",
    "from sklearn.compose import TransformedTargetRegressor\n",
    "\n",
    "from sklearn.preprocessing import StandardScaler, MinMaxScaler, RobustScaler\n",
    "\n",
    "from sklearn.metrics import r2_score, mean_squared_error, mean_absolute_error, mean_absolute_percentage_error"
   ]
  },
  {
   "cell_type": "markdown",
   "id": "cb07e0cc",
   "metadata": {},
   "source": [
    "#### Encoding"
   ]
  },
  {
   "cell_type": "markdown",
   "id": "beefe61f",
   "metadata": {},
   "source": [
    "Agar dapat menggunakan semua fitur yang dipilih, maka fitur-fitur kategorikal harus diubah menjadi fitur numerikal menggunakan encoding. Kali ini akan diggunakan ColumnTransformer untuk dapat mengubah tipe datanya karena terdapat 2 metode encoding yang digunakan yaitu onehot encoding dan binary encoding, yang mana nanti dapat output dari transformer akan diaplikasikan pada model menggunakan pipeline.\n",
    "\n",
    "onehot encoding digunakan untuk fitur 'Options', 'Origin' dan 'Gear_Type'. onehot encoding digunakan karena data yang berisi data ketegorik harus dirubah kedalam data numerik agar dapat digunakan. Dengan onehot encodig data dalam suatu fitur akan dikonversi dengan menambahkan kolom dengan jumlah kolom sesuai dengan jumlah variasi nilai data, selanjutnya akan diisikan nilai dengan angka 0 dan 1 sesuai dengan nilai pada datanya. onehot encoding juga lebih baik digunakan untuk data yang berisi sedikit variasi nilai pada datanya sehingga tidak menambah jumlah kolom terlalu banyak dalam data.\n",
    "\n",
    "binary encoding digunakan untuk fitur 'Type', 'Region' dan 'Make'. binary encoding digunakan karena dalam fitur tersebut berisikan banyak variasi nilai data sehingga akan sulit jika menggunakan onehot encoding. Dengan binary encoding, outputnya akan lebih ringkas karena akan dikonversi menjadi format angka biner."
   ]
  },
  {
   "cell_type": "code",
   "execution_count": 795,
   "id": "ac0aaf02",
   "metadata": {},
   "outputs": [],
   "source": [
    "one_hot = OneHotEncoder()\n",
    "one_hot_var = ['Options', 'Origin', 'Gear_Type']\n",
    "\n",
    "binary_encoding = ce.BinaryEncoder()\n",
    "binary_var = ['Type', 'Region', 'Make']"
   ]
  },
  {
   "cell_type": "code",
   "execution_count": 796,
   "id": "7a0abf5b",
   "metadata": {},
   "outputs": [],
   "source": [
    "transformer = ColumnTransformer([\n",
    "                                ('one hot', one_hot, one_hot_var),\n",
    "                                ('binary', binary_encoding, binary_var)\n",
    "                                ], remainder = 'passthrough')"
   ]
  },
  {
   "cell_type": "markdown",
   "id": "d6c3207d",
   "metadata": {},
   "source": [
    "#### Data Splitting"
   ]
  },
  {
   "cell_type": "code",
   "execution_count": 797,
   "id": "3351bfa0",
   "metadata": {},
   "outputs": [],
   "source": [
    "# Splitting data between dependent and independent variabel\n",
    "X = df.drop(columns=['Price'])\n",
    "y = df['Price']"
   ]
  },
  {
   "cell_type": "markdown",
   "id": "5e0d027b",
   "metadata": {},
   "source": [
    "#### Train and Test Splitting"
   ]
  },
  {
   "cell_type": "code",
   "execution_count": 813,
   "id": "e2d064e2",
   "metadata": {},
   "outputs": [],
   "source": [
    "# Splitting data training dan test (70:30)\n",
    "X_train, X_test, y_train, y_test= train_test_split(\n",
    "    X,\n",
    "    y,  \n",
    "    test_size=0.3,\n",
    "    random_state=2022)"
   ]
  },
  {
   "cell_type": "markdown",
   "id": "15b4b8bb",
   "metadata": {},
   "source": [
    "#### Model : Benchmark"
   ]
  },
  {
   "cell_type": "markdown",
   "id": "40e7860d",
   "metadata": {},
   "source": [
    "Pada model benchmark kali ini akan dibandingkan hasil performa model dengan menggunakan RMSE, MAE dan MAPE. Penggunaan ketiga parameter tersebut dikarenakan label y memiliki nilai yang cukup beragam sehingga MAE dan MAPE lebih baik digunakan dibanding MSE. Selain itu MAE dan MAPE juga tidak sensitif terhadap outlier sehingga lebih cocok digunakan untuk dataset ini. \n",
    "1. RMSE adalah metode pengukuran dengan mengukur perbedaan nilai dari prediksi sebuah model sebagai estimasi atas nilai yang diobservasi. Keakuratan metode estimasi kesalahan pengukuran ditandai dengan adanya nilai RMSE yang kecil. Dengan didapatkannya RMSE dengan nilai yang kecil diharapkan model dapat melakukan prediksi harga mobil secara akurat dengan error antara nilai prediksi dengan nilai seharusnya yang sangat kecil.\n",
    "2. MAE adalah rata-rata selisih mutlak nilai sebenarnya dengan nilai prediksi. MAE menunjukkan nilai kesalahan atau perbedaan nilai sebenarnya dengan nilai prediksi. Semakin kecil nilai MAE, semakin baik model tersebut dalam melakukan prediksi. Dengan didapatkannya MAE dengan nilai yang kecil diharapkan model dapat melakukan prediksi harga mobil dengan baik dengan nilai error mutlak antara nilai prediksi dengan nilai seharusnya yang sangat kecil.\n",
    "3. MAPE adalah presentase atas nilai error mutlak / MAE. MAPE mengukur presentase error mutlak MAE dengan nilai rentang datanya. Dengan MAPE nilai error dapat terbaca dengan lebih mudah apakah besar atau kecil, karena besar kecilnya nilai error tergantung dari rentang datanya. Semakin kecil nilai presentasi kesalahan (percentage error) pada MAPE maka semakin akurat hasil prediksi tersebut. Dengan didapatkannya MAE dengan nilai yang kecil diharapkan model dapat melakukan prediksi harga mobil dengan baik dengan nilai presentase error mutlak antara nilai prediksi dengan nilai seharusnya yang sangat kecil.\n",
    "\n",
    "\n",
    "Model yang akan dibandingkan yaitu terdapat 5 model yaitu:\n",
    "1. Linear regression\n",
    "2. KNN\n",
    "3. Decision Tree\n",
    "4. Random Forest\n",
    "5. XGBoost\n",
    "\n",
    "Dari kelima model tersebut akan dipilih 2 model terbaik yang memberikan nilai RMSE, MAE dan MAPE yang kecil dan standar deviasi dari RMSE, MAE dan MAPE yang kecil juga. Selain membandingkan model ML yang akan digunakan, akan dibandingkan juga metode dari scaling yang akan digunakan yang mampu memberikan kinerja yang paling baik pada RMSE, MAE dan MAPE. Metode scaling yang akan dibandingkan yaitu:\n",
    "1. Standard Scaler\n",
    "2. Min Max Scaler\n",
    "3. Robust Scaler"
   ]
  },
  {
   "cell_type": "code",
   "execution_count": 815,
   "id": "c3a8e2e7",
   "metadata": {},
   "outputs": [],
   "source": [
    "# Algoritma ML yang digunakan\n",
    "lr = LinearRegression()\n",
    "knn = KNeighborsRegressor()\n",
    "dt = DecisionTreeRegressor(random_state=2022)\n",
    "rf = RandomForestRegressor(random_state=2022)\n",
    "xgb = XGBRegressor(random_state=2022)\n",
    "\n",
    "models = [lr, knn, dt, rf, xgb]\n",
    "\n",
    "# Scaling data\n",
    "S_scaler = StandardScaler()\n",
    "M_scaler = MinMaxScaler()\n",
    "R_scaler = RobustScaler()"
   ]
  },
  {
   "cell_type": "code",
   "execution_count": 816,
   "id": "33d9dd18",
   "metadata": {},
   "outputs": [],
   "source": [
    "def model_evaluation_cv(model,scaler):\n",
    "    crossval = KFold(n_splits = 5, shuffle=True, random_state=2022)\n",
    "    estimator = Pipeline([\n",
    "        ('preprocessing',transformer),\n",
    "        ('scaler', scaler),\n",
    "        ('model', model)\n",
    "    ])\n",
    "    \n",
    "    model_cv_rmse = cross_val_score(\n",
    "        estimator, \n",
    "        X_train, \n",
    "        y_train, \n",
    "        cv=crossval, \n",
    "        scoring='neg_root_mean_squared_error', \n",
    "        error_score='raise'\n",
    "    )\n",
    "    \n",
    "    score_rmse.append(model_cv_rmse)\n",
    "    nilai_mean_rmse.append(model_cv_rmse.mean())\n",
    "    nilai_std_rmse.append(model_cv_rmse.std())\n",
    "\n",
    "    model_cv_mae = cross_val_score(\n",
    "        estimator, \n",
    "        X_train, \n",
    "        y_train, \n",
    "        cv=crossval, \n",
    "        scoring='neg_mean_absolute_error', \n",
    "        error_score='raise'\n",
    "    )\n",
    "\n",
    "    score_mae.append(model_cv_mae)\n",
    "    nilai_mean_mae.append(model_cv_mae.mean())\n",
    "    nilai_std_mae.append(model_cv_mae.std())\n",
    "\n",
    "    model_cv_mape = cross_val_score(\n",
    "        estimator, \n",
    "        X_train, \n",
    "        y_train, \n",
    "        cv=crossval, \n",
    "        scoring='neg_mean_absolute_percentage_error', \n",
    "        error_score='raise'\n",
    "    )\n",
    "    \n",
    "    score_mape.append(model_cv_mape)\n",
    "    nilai_mean_mape.append(model_cv_mape.mean())\n",
    "    nilai_std_mape.append(model_cv_mape.std())    "
   ]
  },
  {
   "cell_type": "code",
   "execution_count": 817,
   "id": "1a7d1037",
   "metadata": {},
   "outputs": [
    {
     "data": {
      "text/html": [
       "<div>\n",
       "<style scoped>\n",
       "    .dataframe tbody tr th:only-of-type {\n",
       "        vertical-align: middle;\n",
       "    }\n",
       "\n",
       "    .dataframe tbody tr th {\n",
       "        vertical-align: top;\n",
       "    }\n",
       "\n",
       "    .dataframe thead th {\n",
       "        text-align: right;\n",
       "    }\n",
       "</style>\n",
       "<table border=\"1\" class=\"dataframe\">\n",
       "  <thead>\n",
       "    <tr style=\"text-align: right;\">\n",
       "      <th></th>\n",
       "      <th>Model</th>\n",
       "      <th>Mean_RMSE</th>\n",
       "      <th>Std_RMSE</th>\n",
       "      <th>Mean_MAE</th>\n",
       "      <th>Std_MAE</th>\n",
       "      <th>Mean_MAPE</th>\n",
       "      <th>Std_MAPE</th>\n",
       "    </tr>\n",
       "  </thead>\n",
       "  <tbody>\n",
       "    <tr>\n",
       "      <th>0</th>\n",
       "      <td>Linear Regression</td>\n",
       "      <td>-27399.353222</td>\n",
       "      <td>1226.612773</td>\n",
       "      <td>-20600.521229</td>\n",
       "      <td>822.326142</td>\n",
       "      <td>-0.434405</td>\n",
       "      <td>0.025639</td>\n",
       "    </tr>\n",
       "    <tr>\n",
       "      <th>1</th>\n",
       "      <td>KNN Regressor</td>\n",
       "      <td>-28188.602274</td>\n",
       "      <td>1016.079806</td>\n",
       "      <td>-20319.667000</td>\n",
       "      <td>830.827660</td>\n",
       "      <td>-0.459981</td>\n",
       "      <td>0.038557</td>\n",
       "    </tr>\n",
       "    <tr>\n",
       "      <th>2</th>\n",
       "      <td>DecisionTree Regressor</td>\n",
       "      <td>-27445.972765</td>\n",
       "      <td>2762.123522</td>\n",
       "      <td>-17033.669167</td>\n",
       "      <td>1507.363598</td>\n",
       "      <td>-0.326845</td>\n",
       "      <td>0.043275</td>\n",
       "    </tr>\n",
       "    <tr>\n",
       "      <th>3</th>\n",
       "      <td>RandomForest Regressor</td>\n",
       "      <td>-18843.528446</td>\n",
       "      <td>1034.737702</td>\n",
       "      <td>-12681.009576</td>\n",
       "      <td>727.859273</td>\n",
       "      <td>-0.251502</td>\n",
       "      <td>0.021056</td>\n",
       "    </tr>\n",
       "    <tr>\n",
       "      <th>4</th>\n",
       "      <td>XGBoost Regressor</td>\n",
       "      <td>-18015.130998</td>\n",
       "      <td>957.246894</td>\n",
       "      <td>-12182.810108</td>\n",
       "      <td>621.264715</td>\n",
       "      <td>-0.236308</td>\n",
       "      <td>0.014229</td>\n",
       "    </tr>\n",
       "  </tbody>\n",
       "</table>\n",
       "</div>"
      ],
      "text/plain": [
       "                    Model     Mean_RMSE     Std_RMSE      Mean_MAE  \\\n",
       "0       Linear Regression -27399.353222  1226.612773 -20600.521229   \n",
       "1           KNN Regressor -28188.602274  1016.079806 -20319.667000   \n",
       "2  DecisionTree Regressor -27445.972765  2762.123522 -17033.669167   \n",
       "3  RandomForest Regressor -18843.528446  1034.737702 -12681.009576   \n",
       "4       XGBoost Regressor -18015.130998   957.246894 -12182.810108   \n",
       "\n",
       "       Std_MAE  Mean_MAPE  Std_MAPE  \n",
       "0   822.326142  -0.434405  0.025639  \n",
       "1   830.827660  -0.459981  0.038557  \n",
       "2  1507.363598  -0.326845  0.043275  \n",
       "3   727.859273  -0.251502  0.021056  \n",
       "4   621.264715  -0.236308  0.014229  "
      ]
     },
     "execution_count": 817,
     "metadata": {},
     "output_type": "execute_result"
    }
   ],
   "source": [
    "score_rmse = []\n",
    "nilai_mean_rmse = []\n",
    "nilai_std_rmse = []\n",
    "\n",
    "score_mae = []\n",
    "nilai_mean_mae = []\n",
    "nilai_std_mae = []\n",
    "\n",
    "score_mape = []\n",
    "nilai_mean_mape = []\n",
    "nilai_std_mape = []\n",
    "\n",
    "for i in models:\n",
    "    model_evaluation_cv(i, S_scaler)\n",
    "    \n",
    "pd.DataFrame({\n",
    "    'Model': ['Linear Regression', 'KNN Regressor', 'DecisionTree Regressor', 'RandomForest Regressor', 'XGBoost Regressor'],\n",
    "    'Mean_RMSE': nilai_mean_rmse,\n",
    "    'Std_RMSE': nilai_std_rmse,\n",
    "    'Mean_MAE': nilai_mean_mae,\n",
    "    'Std_MAE': nilai_std_mae,\n",
    "    'Mean_MAPE': nilai_mean_mape,\n",
    "    'Std_MAPE': nilai_std_mape\n",
    "})"
   ]
  },
  {
   "cell_type": "code",
   "execution_count": 818,
   "id": "0e05bc64",
   "metadata": {},
   "outputs": [
    {
     "data": {
      "text/html": [
       "<div>\n",
       "<style scoped>\n",
       "    .dataframe tbody tr th:only-of-type {\n",
       "        vertical-align: middle;\n",
       "    }\n",
       "\n",
       "    .dataframe tbody tr th {\n",
       "        vertical-align: top;\n",
       "    }\n",
       "\n",
       "    .dataframe thead th {\n",
       "        text-align: right;\n",
       "    }\n",
       "</style>\n",
       "<table border=\"1\" class=\"dataframe\">\n",
       "  <thead>\n",
       "    <tr style=\"text-align: right;\">\n",
       "      <th></th>\n",
       "      <th>Model</th>\n",
       "      <th>Mean_RMSE</th>\n",
       "      <th>Std_RMSE</th>\n",
       "      <th>Mean_MAE</th>\n",
       "      <th>Std_MAE</th>\n",
       "      <th>Mean_MAPE</th>\n",
       "      <th>Std_MAPE</th>\n",
       "    </tr>\n",
       "  </thead>\n",
       "  <tbody>\n",
       "    <tr>\n",
       "      <th>0</th>\n",
       "      <td>Linear Regression</td>\n",
       "      <td>-27301.180071</td>\n",
       "      <td>1083.357339</td>\n",
       "      <td>-20555.138333</td>\n",
       "      <td>743.085207</td>\n",
       "      <td>-0.432515</td>\n",
       "      <td>0.022913</td>\n",
       "    </tr>\n",
       "    <tr>\n",
       "      <th>1</th>\n",
       "      <td>KNN Regressor</td>\n",
       "      <td>-29570.053275</td>\n",
       "      <td>716.526028</td>\n",
       "      <td>-20909.463250</td>\n",
       "      <td>715.950045</td>\n",
       "      <td>-0.483112</td>\n",
       "      <td>0.029559</td>\n",
       "    </tr>\n",
       "    <tr>\n",
       "      <th>2</th>\n",
       "      <td>DecisionTree Regressor</td>\n",
       "      <td>-27520.564708</td>\n",
       "      <td>2748.729793</td>\n",
       "      <td>-17074.919167</td>\n",
       "      <td>1500.100251</td>\n",
       "      <td>-0.326746</td>\n",
       "      <td>0.043495</td>\n",
       "    </tr>\n",
       "    <tr>\n",
       "      <th>3</th>\n",
       "      <td>RandomForest Regressor</td>\n",
       "      <td>-18855.067817</td>\n",
       "      <td>1035.608562</td>\n",
       "      <td>-12696.710929</td>\n",
       "      <td>720.487759</td>\n",
       "      <td>-0.251801</td>\n",
       "      <td>0.020749</td>\n",
       "    </tr>\n",
       "    <tr>\n",
       "      <th>4</th>\n",
       "      <td>XGBoost Regressor</td>\n",
       "      <td>-18011.628024</td>\n",
       "      <td>966.440776</td>\n",
       "      <td>-12178.673752</td>\n",
       "      <td>631.186850</td>\n",
       "      <td>-0.236305</td>\n",
       "      <td>0.014360</td>\n",
       "    </tr>\n",
       "  </tbody>\n",
       "</table>\n",
       "</div>"
      ],
      "text/plain": [
       "                    Model     Mean_RMSE     Std_RMSE      Mean_MAE  \\\n",
       "0       Linear Regression -27301.180071  1083.357339 -20555.138333   \n",
       "1           KNN Regressor -29570.053275   716.526028 -20909.463250   \n",
       "2  DecisionTree Regressor -27520.564708  2748.729793 -17074.919167   \n",
       "3  RandomForest Regressor -18855.067817  1035.608562 -12696.710929   \n",
       "4       XGBoost Regressor -18011.628024   966.440776 -12178.673752   \n",
       "\n",
       "       Std_MAE  Mean_MAPE  Std_MAPE  \n",
       "0   743.085207  -0.432515  0.022913  \n",
       "1   715.950045  -0.483112  0.029559  \n",
       "2  1500.100251  -0.326746  0.043495  \n",
       "3   720.487759  -0.251801  0.020749  \n",
       "4   631.186850  -0.236305  0.014360  "
      ]
     },
     "execution_count": 818,
     "metadata": {},
     "output_type": "execute_result"
    }
   ],
   "source": [
    "score_rmse = []\n",
    "nilai_mean_rmse = []\n",
    "nilai_std_rmse = []\n",
    "\n",
    "score_mae = []\n",
    "nilai_mean_mae = []\n",
    "nilai_std_mae = []\n",
    "\n",
    "score_mape = []\n",
    "nilai_mean_mape = []\n",
    "nilai_std_mape = []\n",
    "\n",
    "for i in models:\n",
    "    model_evaluation_cv(i, M_scaler)\n",
    "    \n",
    "pd.DataFrame({\n",
    "    'Model': ['Linear Regression', 'KNN Regressor', 'DecisionTree Regressor', 'RandomForest Regressor', 'XGBoost Regressor'],\n",
    "    'Mean_RMSE': nilai_mean_rmse,\n",
    "    'Std_RMSE': nilai_std_rmse,\n",
    "    'Mean_MAE': nilai_mean_mae,\n",
    "    'Std_MAE': nilai_std_mae,\n",
    "    'Mean_MAPE': nilai_mean_mape,\n",
    "    'Std_MAPE': nilai_std_mape\n",
    "})"
   ]
  },
  {
   "cell_type": "code",
   "execution_count": 819,
   "id": "3269081f",
   "metadata": {},
   "outputs": [
    {
     "data": {
      "text/html": [
       "<div>\n",
       "<style scoped>\n",
       "    .dataframe tbody tr th:only-of-type {\n",
       "        vertical-align: middle;\n",
       "    }\n",
       "\n",
       "    .dataframe tbody tr th {\n",
       "        vertical-align: top;\n",
       "    }\n",
       "\n",
       "    .dataframe thead th {\n",
       "        text-align: right;\n",
       "    }\n",
       "</style>\n",
       "<table border=\"1\" class=\"dataframe\">\n",
       "  <thead>\n",
       "    <tr style=\"text-align: right;\">\n",
       "      <th></th>\n",
       "      <th>Model</th>\n",
       "      <th>Mean_RMSE</th>\n",
       "      <th>Std_RMSE</th>\n",
       "      <th>Mean_MAE</th>\n",
       "      <th>Std_MAE</th>\n",
       "      <th>Mean_MAPE</th>\n",
       "      <th>Std_MAPE</th>\n",
       "    </tr>\n",
       "  </thead>\n",
       "  <tbody>\n",
       "    <tr>\n",
       "      <th>0</th>\n",
       "      <td>Linear Regression</td>\n",
       "      <td>-27319.903320</td>\n",
       "      <td>1072.417441</td>\n",
       "      <td>-20562.704118</td>\n",
       "      <td>734.900028</td>\n",
       "      <td>-0.432402</td>\n",
       "      <td>0.022929</td>\n",
       "    </tr>\n",
       "    <tr>\n",
       "      <th>1</th>\n",
       "      <td>KNN Regressor</td>\n",
       "      <td>-22726.604224</td>\n",
       "      <td>1083.068197</td>\n",
       "      <td>-15785.988083</td>\n",
       "      <td>564.316606</td>\n",
       "      <td>-0.333967</td>\n",
       "      <td>0.026422</td>\n",
       "    </tr>\n",
       "    <tr>\n",
       "      <th>2</th>\n",
       "      <td>DecisionTree Regressor</td>\n",
       "      <td>-27512.922657</td>\n",
       "      <td>2733.023519</td>\n",
       "      <td>-17070.335833</td>\n",
       "      <td>1477.726344</td>\n",
       "      <td>-0.327276</td>\n",
       "      <td>0.043355</td>\n",
       "    </tr>\n",
       "    <tr>\n",
       "      <th>3</th>\n",
       "      <td>RandomForest Regressor</td>\n",
       "      <td>-18855.443071</td>\n",
       "      <td>1032.373634</td>\n",
       "      <td>-12689.830340</td>\n",
       "      <td>719.798641</td>\n",
       "      <td>-0.251586</td>\n",
       "      <td>0.020834</td>\n",
       "    </tr>\n",
       "    <tr>\n",
       "      <th>4</th>\n",
       "      <td>XGBoost Regressor</td>\n",
       "      <td>-18010.304735</td>\n",
       "      <td>946.985997</td>\n",
       "      <td>-12180.113315</td>\n",
       "      <td>618.818158</td>\n",
       "      <td>-0.236353</td>\n",
       "      <td>0.014202</td>\n",
       "    </tr>\n",
       "  </tbody>\n",
       "</table>\n",
       "</div>"
      ],
      "text/plain": [
       "                    Model     Mean_RMSE     Std_RMSE      Mean_MAE  \\\n",
       "0       Linear Regression -27319.903320  1072.417441 -20562.704118   \n",
       "1           KNN Regressor -22726.604224  1083.068197 -15785.988083   \n",
       "2  DecisionTree Regressor -27512.922657  2733.023519 -17070.335833   \n",
       "3  RandomForest Regressor -18855.443071  1032.373634 -12689.830340   \n",
       "4       XGBoost Regressor -18010.304735   946.985997 -12180.113315   \n",
       "\n",
       "       Std_MAE  Mean_MAPE  Std_MAPE  \n",
       "0   734.900028  -0.432402  0.022929  \n",
       "1   564.316606  -0.333967  0.026422  \n",
       "2  1477.726344  -0.327276  0.043355  \n",
       "3   719.798641  -0.251586  0.020834  \n",
       "4   618.818158  -0.236353  0.014202  "
      ]
     },
     "execution_count": 819,
     "metadata": {},
     "output_type": "execute_result"
    }
   ],
   "source": [
    "score_rmse = []\n",
    "nilai_mean_rmse = []\n",
    "nilai_std_rmse = []\n",
    "\n",
    "score_mae = []\n",
    "nilai_mean_mae = []\n",
    "nilai_std_mae = []\n",
    "\n",
    "score_mape = []\n",
    "nilai_mean_mape = []\n",
    "nilai_std_mape = []\n",
    "\n",
    "for i in models:\n",
    "    model_evaluation_cv(i, R_scaler)\n",
    "    \n",
    "pd.DataFrame({\n",
    "    'Model': ['Linear Regression', 'KNN Regressor', 'DecisionTree Regressor', 'RandomForest Regressor', 'XGBoost Regressor'],\n",
    "    'Mean_RMSE': nilai_mean_rmse,\n",
    "    'Std_RMSE': nilai_std_rmse,\n",
    "    'Mean_MAE': nilai_mean_mae,\n",
    "    'Std_MAE': nilai_std_mae,\n",
    "    'Mean_MAPE': nilai_mean_mape,\n",
    "    'Std_MAPE': nilai_std_mape\n",
    "})"
   ]
  },
  {
   "cell_type": "markdown",
   "id": "f2e410ae",
   "metadata": {},
   "source": [
    "Terdapat perbedaan cukup signifikan antara nilai RMSE dan MAE, di mana nilai RMSE lebih tinggi karena nilai residuals atau error-nya dikuadratkan terlebih dahulu sebelum dirata-ratakan. Hal ini menyebabkan RMSE akan memberikan 'weight' yang lebih tinggi untuk nilai error yang besar. Dengan kata lain, terdapat nilai-nilai error yang besar yang dihasilkan oleh semua algoritma yang digunakan, sehingga ada perbedaan signifikan antara nilai RMSE dan MAE.\n",
    "1. Berdasarkan perbandingan dari metode scaler, didapatkan metode min max scaler mampu memberikan rata - rata nilai RMSE, MAE dan MAPE yang paling baik walaupun untuk standard deviasi dari RMSE, MAE dan MAPE lebih baik dihasilkan jika menggunakan standard scaler.\n",
    "2. Berdasarkan RMSE, MAE dan MAPE, XGBoost menjadi model ML yang paling baik dengan diurutan selanjutnya ditempati oleh Random Forest, Decision Tree dan KNN. Selanjutnya keempat model ini akan dilanjutkan kedalam tahap testing menggunakan test set dan dilihat model mana yang memeberikan hasil yang baik."
   ]
  },
  {
   "cell_type": "markdown",
   "id": "a25b1c15",
   "metadata": {},
   "source": [
    "#### Predict to Test Set with the Benchmark Model"
   ]
  },
  {
   "cell_type": "code",
   "execution_count": 820,
   "id": "7f9792b3",
   "metadata": {},
   "outputs": [
    {
     "data": {
      "text/html": [
       "<div>\n",
       "<style scoped>\n",
       "    .dataframe tbody tr th:only-of-type {\n",
       "        vertical-align: middle;\n",
       "    }\n",
       "\n",
       "    .dataframe tbody tr th {\n",
       "        vertical-align: top;\n",
       "    }\n",
       "\n",
       "    .dataframe thead th {\n",
       "        text-align: right;\n",
       "    }\n",
       "</style>\n",
       "<table border=\"1\" class=\"dataframe\">\n",
       "  <thead>\n",
       "    <tr style=\"text-align: right;\">\n",
       "      <th></th>\n",
       "      <th>RMSE</th>\n",
       "      <th>MAE</th>\n",
       "      <th>MAPE</th>\n",
       "    </tr>\n",
       "  </thead>\n",
       "  <tbody>\n",
       "    <tr>\n",
       "      <th>KNN</th>\n",
       "      <td>30230.952400</td>\n",
       "      <td>21160.017104</td>\n",
       "      <td>0.501962</td>\n",
       "    </tr>\n",
       "    <tr>\n",
       "      <th>DecisionTree</th>\n",
       "      <td>26291.350793</td>\n",
       "      <td>16743.069971</td>\n",
       "      <td>0.319740</td>\n",
       "    </tr>\n",
       "    <tr>\n",
       "      <th>XGB</th>\n",
       "      <td>17150.607233</td>\n",
       "      <td>11926.240799</td>\n",
       "      <td>0.234447</td>\n",
       "    </tr>\n",
       "    <tr>\n",
       "      <th>RandomForest</th>\n",
       "      <td>18439.178969</td>\n",
       "      <td>12411.475870</td>\n",
       "      <td>0.250222</td>\n",
       "    </tr>\n",
       "  </tbody>\n",
       "</table>\n",
       "</div>"
      ],
      "text/plain": [
       "                      RMSE           MAE      MAPE\n",
       "KNN           30230.952400  21160.017104  0.501962\n",
       "DecisionTree  26291.350793  16743.069971  0.319740\n",
       "XGB           17150.607233  11926.240799  0.234447\n",
       "RandomForest  18439.178969  12411.475870  0.250222"
      ]
     },
     "execution_count": 820,
     "metadata": {},
     "output_type": "execute_result"
    }
   ],
   "source": [
    "# Benchmark model terbaik\n",
    "models = {\n",
    "    'KNN': KNeighborsRegressor(),\n",
    "    'DecisionTree': DecisionTreeRegressor(random_state=2022),\n",
    "    'XGB': XGBRegressor(random_state=2022),\n",
    "    'RandomForest': RandomForestRegressor(random_state=2022)\n",
    "}\n",
    "\n",
    "score_rmse = []\n",
    "score_mae = []\n",
    "score_mape = []\n",
    "\n",
    "# Prediksi pada test set\n",
    "for i in models:\n",
    "    model = Pipeline([\n",
    "        ('preprocessing', transformer),\n",
    "        ('scaler', M_scaler),\n",
    "        ('model', models[i])\n",
    "        ])\n",
    "\n",
    "    model.fit(X_train, y_train)\n",
    "    y_pred = model.predict(X_test)\n",
    "    score_rmse.append(np.sqrt(mean_squared_error(y_test, y_pred)))\n",
    "    score_mae.append(mean_absolute_error(y_test, y_pred))\n",
    "    score_mape.append(mean_absolute_percentage_error(y_test, y_pred))\n",
    "\n",
    "score_before_tuning = pd.DataFrame({'RMSE': score_rmse, 'MAE': score_mae, 'MAPE': score_mape}, index=models.keys())\n",
    "score_before_tuning"
   ]
  },
  {
   "cell_type": "markdown",
   "id": "e73aec5d",
   "metadata": {},
   "source": [
    "Berdasarkan hasil prediksi pada test set, XGBoost memberikan performa masih yang paling baik dengan score RMSE, MAE dan MAPE yang lebih rendah dibanding model yang lain.\n",
    "\n",
    "Boosting adalah salah satu algoritma pembentukan model prediktif dengan ide utamanya menggabungkan beberapa model sederhana (weak learner) agar menjadi suatu model yang kuat/bertenaga (strong learner) secara iteratif. XGBoost merupakan pengembangan algoritma Gradient Boosting Machine (GBM) dengan beberapa fitur tambahan yang berguna dalam mempercepat proses komputasi dan mencegah terjadinya overftting. Proses pemodelan dilakukan secara iteratif dan sequential.  Kunci kecepatan komputasi XGBoost terletak pada optimasi penggunaan memori dan cache di komputer sehingga dapat bekerja secara efsien, meskipun berhadapan dengan data berukuran besar. Di dalam XGBoost juga terdapat pencegahan kejadian overftting yang ilakukan dengan teknik regularisasi dengan cara memberikan komponen penalti pada fungsi kerugian sehingga model akan terhindar dari model yang terlalu kompleks, tetapi berkinerja buruk dalam memprediksi kejadian dengan data baru."
   ]
  },
  {
   "cell_type": "markdown",
   "id": "55c79585",
   "metadata": {},
   "source": [
    "#### Hyperparameter Tuning"
   ]
  },
  {
   "cell_type": "markdown",
   "id": "cbfe86ac",
   "metadata": {},
   "source": [
    "Karena model yang terpilih yaitu XGBoost yang memberikan performa paling baik, maka selanjutnya kita akan menggunakan model XGBoost ini sebagai model akhir. Pada tahap ini, kita akan melakukan hyperparameter tuning pada model XGBoost dengan harapan dapat meningkatkan performa model.\n",
    "\n",
    "Pada XGBoost terdapat 3 kategori parameter yang bisa dituning untuk meningkatkan kinerja model, diantaranya yaitu :\n",
    "1. General Parameter : booster, silent, nthread\n",
    "2. Booster Parameter : eta, min_child_weight, max_depth, max_leaf_nodes, gamma, max_delta_step, subsample, colsample_bytree, colsample_bylevel, lambda, alpha, scale_pos_weight\n",
    "3. Learning Task Parameter : objective, eval_metric_seed\n",
    "\n",
    "Namun pada tahap ini akan dilakukan hyperparamater tuning untuk beberapa variabel dari ketiga parameter tersebut, yaitu:\n",
    "1. learning rate\n",
    "2. estimator of tuning tree (max_depth, min_child_weight, gamma, subsample, colsample_bytree, scale_pos_weight)\n",
    "3. regularization parameters"
   ]
  },
  {
   "cell_type": "code",
   "execution_count": 821,
   "id": "a447b1c5",
   "metadata": {},
   "outputs": [],
   "source": [
    "learning_rate = list(np.arange(0, 11)/10)\n",
    "max_depth = list(np.arange(1, 21))\n",
    "n_estimators = list(np.arange(1, 201))\n",
    "subsample = list(np.arange(0, 11)/10)\n",
    "colsample_bytree = list(np.arange(1, 10)/10)\n",
    "gamma = list(np.arange(0, 11))\n",
    "reg_alpha = list(np.arange(0, 11))\n",
    "\n",
    "\n",
    "# Hyperparam space XGboost\n",
    "hyperparam_space_xgb = {\n",
    "    'model__max_depth': max_depth, \n",
    "    'model__learning_rate': learning_rate,\n",
    "    'model__n_estimators': n_estimators,\n",
    "    'model__subsample': subsample,\n",
    "    'model__gamma': gamma,\n",
    "    'model__colsample_bytree': colsample_bytree,\n",
    "    'model__reg_alpha': reg_alpha\n",
    "}"
   ]
  },
  {
   "cell_type": "markdown",
   "id": "c3ea0277",
   "metadata": {},
   "source": [
    "Penjelasan hyperparam xgboost :\n",
    "1. max_depth : Maksimum kedalaman pohon. Semakin tinggi nilai max_depth maka dapat meningkatkan performence namun meningkatkan juga kompleksitas dan berpotensi overfitting. nilai default = 6, dengan range nilai integer > 0.  \n",
    "2. learning_rate : Ukuran step pada setiap iterasi saat model sedang mengoptimalkan performanya. Nilai learning rate yang rendah akan membuat komputasi lebih lambat dan membutuhkan lebih banyak proses untuk mencapai pengurangan kesalahan residual yang sama seperti model dengan tingkat pembelajaran yang tinggi. Nilai default = 0.3, dengan range nilai antara 0 dan 1.\n",
    "3. n_estimators : Jumlah pohon dalam model. Nilai default = 100, dengan range nilai integer > 0.\n",
    "4. subsample : Mewakili fraksi pengamatan yang akan dijadikan sampel untuk setiap pohon. Nilai yang lebih rendah mencegah overfitting tetapi dapat menyebabkan under-fitting. Nilai default = 1, dengan range nilai antara 0 dan 1.\n",
    "5. gamma : parameter pseudo-regularization yang bergantung dengan parameter lainnya. Semakin tinggi nilai gamma, maka model semakin simpel / konservatif modelnya. Nilai default = 0, dengan range nilai integer > 0.\n",
    "6. colsample_bytree : Mewakili kolom yang akan diambil sampelnya secara acak untuk setiap pohon. Dapat berpotensi meningkatkan overfitting. Nilai default = 1, dengan range nilai antara 0 dan 1.\n",
    "7. reg_alpha : Regularisasi L1 untuk Regresi Lasso. Saat bekerja dengan sejumlah besar fitur, ini mungkin meningkatkan kinerja. Nilai default = 0, dengan range nilai integer > 0."
   ]
  },
  {
   "cell_type": "code",
   "execution_count": 822,
   "id": "85dadef7",
   "metadata": {},
   "outputs": [],
   "source": [
    "xgb = XGBRegressor(random_state=2022)\n",
    "\n",
    "estimator_xgb = Pipeline([\n",
    "        ('preprocessing', transformer),\n",
    "        ('scaler', M_scaler),\n",
    "        ('model', xgb)\n",
    "        ])\n",
    "\n",
    "crossval = KFold(n_splits=5, shuffle=True, random_state=2022)\n",
    "\n",
    "# Hyperparameter tuning\n",
    "rand_xgb = RandomizedSearchCV(\n",
    "    estimator_xgb, \n",
    "    param_distributions = hyperparam_space_xgb,\n",
    "    n_iter = 200,\n",
    "    cv = crossval, \n",
    "    scoring = ['neg_root_mean_squared_error', 'neg_mean_absolute_error', 'neg_mean_absolute_percentage_error'], \n",
    "    n_jobs = -1,\n",
    "    refit = 'neg_root_mean_squared_error',\n",
    "    random_state = 14\n",
    ")"
   ]
  },
  {
   "cell_type": "code",
   "execution_count": 823,
   "id": "f576e7c4",
   "metadata": {},
   "outputs": [
    {
     "data": {
      "text/plain": [
       "RandomizedSearchCV(cv=KFold(n_splits=5, random_state=2022, shuffle=True),\n",
       "                   estimator=Pipeline(steps=[('preprocessing',\n",
       "                                              ColumnTransformer(remainder='passthrough',\n",
       "                                                                transformers=[('one '\n",
       "                                                                               'hot',\n",
       "                                                                               OneHotEncoder(),\n",
       "                                                                               ['Options',\n",
       "                                                                                'Origin',\n",
       "                                                                                'Gear_Type']),\n",
       "                                                                              ('binary',\n",
       "                                                                               BinaryEncoder(),\n",
       "                                                                               ['Type',\n",
       "                                                                                'Region',\n",
       "                                                                                'Make'])])),\n",
       "                                             ('scaler', MinMaxScaler()),\n",
       "                                             ('model',\n",
       "                                              XGBRegressor(base_score=None...\n",
       "                                        'model__n_estimators': [1, 2, 3, 4, 5,\n",
       "                                                                6, 7, 8, 9, 10,\n",
       "                                                                11, 12, 13, 14,\n",
       "                                                                15, 16, 17, 18,\n",
       "                                                                19, 20, 21, 22,\n",
       "                                                                23, 24, 25, 26,\n",
       "                                                                27, 28, 29, 30, ...],\n",
       "                                        'model__reg_alpha': [0, 1, 2, 3, 4, 5,\n",
       "                                                             6, 7, 8, 9, 10],\n",
       "                                        'model__subsample': [0.0, 0.1, 0.2, 0.3,\n",
       "                                                             0.4, 0.5, 0.6, 0.7,\n",
       "                                                             0.8, 0.9, 1.0]},\n",
       "                   random_state=14, refit='neg_root_mean_squared_error',\n",
       "                   scoring=['neg_root_mean_squared_error',\n",
       "                            'neg_mean_absolute_error',\n",
       "                            'neg_mean_absolute_percentage_error'])"
      ]
     },
     "execution_count": 823,
     "metadata": {},
     "output_type": "execute_result"
    }
   ],
   "source": [
    "# Fitting data training untuk mencari parameter terbaik\n",
    "rand_xgb.fit(X_train, y_train)"
   ]
  },
  {
   "cell_type": "code",
   "execution_count": 824,
   "id": "037590eb",
   "metadata": {},
   "outputs": [
    {
     "data": {
      "text/html": [
       "<div>\n",
       "<style scoped>\n",
       "    .dataframe tbody tr th:only-of-type {\n",
       "        vertical-align: middle;\n",
       "    }\n",
       "\n",
       "    .dataframe tbody tr th {\n",
       "        vertical-align: top;\n",
       "    }\n",
       "\n",
       "    .dataframe thead th {\n",
       "        text-align: right;\n",
       "    }\n",
       "</style>\n",
       "<table border=\"1\" class=\"dataframe\">\n",
       "  <thead>\n",
       "    <tr style=\"text-align: right;\">\n",
       "      <th></th>\n",
       "      <th>mean_fit_time</th>\n",
       "      <th>std_fit_time</th>\n",
       "      <th>mean_score_time</th>\n",
       "      <th>std_score_time</th>\n",
       "      <th>param_model__subsample</th>\n",
       "      <th>param_model__reg_alpha</th>\n",
       "      <th>param_model__n_estimators</th>\n",
       "      <th>param_model__max_depth</th>\n",
       "      <th>param_model__learning_rate</th>\n",
       "      <th>param_model__gamma</th>\n",
       "      <th>...</th>\n",
       "      <th>std_test_neg_mean_absolute_error</th>\n",
       "      <th>rank_test_neg_mean_absolute_error</th>\n",
       "      <th>split0_test_neg_mean_absolute_percentage_error</th>\n",
       "      <th>split1_test_neg_mean_absolute_percentage_error</th>\n",
       "      <th>split2_test_neg_mean_absolute_percentage_error</th>\n",
       "      <th>split3_test_neg_mean_absolute_percentage_error</th>\n",
       "      <th>split4_test_neg_mean_absolute_percentage_error</th>\n",
       "      <th>mean_test_neg_mean_absolute_percentage_error</th>\n",
       "      <th>std_test_neg_mean_absolute_percentage_error</th>\n",
       "      <th>rank_test_neg_mean_absolute_percentage_error</th>\n",
       "    </tr>\n",
       "  </thead>\n",
       "  <tbody>\n",
       "    <tr>\n",
       "      <th>114</th>\n",
       "      <td>2.610272</td>\n",
       "      <td>0.056140</td>\n",
       "      <td>0.044438</td>\n",
       "      <td>0.006609</td>\n",
       "      <td>0.5</td>\n",
       "      <td>7</td>\n",
       "      <td>138</td>\n",
       "      <td>7</td>\n",
       "      <td>0.1</td>\n",
       "      <td>8</td>\n",
       "      <td>...</td>\n",
       "      <td>791.535734</td>\n",
       "      <td>1</td>\n",
       "      <td>-0.258502</td>\n",
       "      <td>-0.218523</td>\n",
       "      <td>-0.253825</td>\n",
       "      <td>-0.197819</td>\n",
       "      <td>-0.231250</td>\n",
       "      <td>-0.231984</td>\n",
       "      <td>0.022491</td>\n",
       "      <td>1</td>\n",
       "    </tr>\n",
       "    <tr>\n",
       "      <th>107</th>\n",
       "      <td>3.223721</td>\n",
       "      <td>0.248205</td>\n",
       "      <td>0.035346</td>\n",
       "      <td>0.010449</td>\n",
       "      <td>0.5</td>\n",
       "      <td>5</td>\n",
       "      <td>92</td>\n",
       "      <td>10</td>\n",
       "      <td>0.1</td>\n",
       "      <td>10</td>\n",
       "      <td>...</td>\n",
       "      <td>835.018611</td>\n",
       "      <td>2</td>\n",
       "      <td>-0.253778</td>\n",
       "      <td>-0.211444</td>\n",
       "      <td>-0.248771</td>\n",
       "      <td>-0.215882</td>\n",
       "      <td>-0.233681</td>\n",
       "      <td>-0.232711</td>\n",
       "      <td>0.016960</td>\n",
       "      <td>2</td>\n",
       "    </tr>\n",
       "    <tr>\n",
       "      <th>146</th>\n",
       "      <td>5.701121</td>\n",
       "      <td>0.128715</td>\n",
       "      <td>0.039802</td>\n",
       "      <td>0.001947</td>\n",
       "      <td>0.5</td>\n",
       "      <td>8</td>\n",
       "      <td>124</td>\n",
       "      <td>14</td>\n",
       "      <td>0.1</td>\n",
       "      <td>2</td>\n",
       "      <td>...</td>\n",
       "      <td>833.867489</td>\n",
       "      <td>3</td>\n",
       "      <td>-0.270201</td>\n",
       "      <td>-0.213442</td>\n",
       "      <td>-0.250813</td>\n",
       "      <td>-0.231239</td>\n",
       "      <td>-0.237871</td>\n",
       "      <td>-0.240713</td>\n",
       "      <td>0.019042</td>\n",
       "      <td>4</td>\n",
       "    </tr>\n",
       "    <tr>\n",
       "      <th>152</th>\n",
       "      <td>0.876044</td>\n",
       "      <td>0.052054</td>\n",
       "      <td>0.043514</td>\n",
       "      <td>0.006276</td>\n",
       "      <td>0.5</td>\n",
       "      <td>2</td>\n",
       "      <td>85</td>\n",
       "      <td>5</td>\n",
       "      <td>0.2</td>\n",
       "      <td>9</td>\n",
       "      <td>...</td>\n",
       "      <td>784.644410</td>\n",
       "      <td>5</td>\n",
       "      <td>-0.277439</td>\n",
       "      <td>-0.223525</td>\n",
       "      <td>-0.273900</td>\n",
       "      <td>-0.233226</td>\n",
       "      <td>-0.241060</td>\n",
       "      <td>-0.249830</td>\n",
       "      <td>0.021846</td>\n",
       "      <td>5</td>\n",
       "    </tr>\n",
       "    <tr>\n",
       "      <th>4</th>\n",
       "      <td>1.857524</td>\n",
       "      <td>0.069088</td>\n",
       "      <td>0.036012</td>\n",
       "      <td>0.005808</td>\n",
       "      <td>0.9</td>\n",
       "      <td>6</td>\n",
       "      <td>53</td>\n",
       "      <td>14</td>\n",
       "      <td>0.1</td>\n",
       "      <td>9</td>\n",
       "      <td>...</td>\n",
       "      <td>598.584238</td>\n",
       "      <td>4</td>\n",
       "      <td>-0.254268</td>\n",
       "      <td>-0.219554</td>\n",
       "      <td>-0.254266</td>\n",
       "      <td>-0.222024</td>\n",
       "      <td>-0.226847</td>\n",
       "      <td>-0.235392</td>\n",
       "      <td>0.015589</td>\n",
       "      <td>3</td>\n",
       "    </tr>\n",
       "  </tbody>\n",
       "</table>\n",
       "<p>5 rows × 36 columns</p>\n",
       "</div>"
      ],
      "text/plain": [
       "     mean_fit_time  std_fit_time  mean_score_time  std_score_time  \\\n",
       "114       2.610272      0.056140         0.044438        0.006609   \n",
       "107       3.223721      0.248205         0.035346        0.010449   \n",
       "146       5.701121      0.128715         0.039802        0.001947   \n",
       "152       0.876044      0.052054         0.043514        0.006276   \n",
       "4         1.857524      0.069088         0.036012        0.005808   \n",
       "\n",
       "    param_model__subsample param_model__reg_alpha param_model__n_estimators  \\\n",
       "114                    0.5                      7                       138   \n",
       "107                    0.5                      5                        92   \n",
       "146                    0.5                      8                       124   \n",
       "152                    0.5                      2                        85   \n",
       "4                      0.9                      6                        53   \n",
       "\n",
       "    param_model__max_depth param_model__learning_rate param_model__gamma  ...  \\\n",
       "114                      7                        0.1                  8  ...   \n",
       "107                     10                        0.1                 10  ...   \n",
       "146                     14                        0.1                  2  ...   \n",
       "152                      5                        0.2                  9  ...   \n",
       "4                       14                        0.1                  9  ...   \n",
       "\n",
       "    std_test_neg_mean_absolute_error rank_test_neg_mean_absolute_error  \\\n",
       "114                       791.535734                                 1   \n",
       "107                       835.018611                                 2   \n",
       "146                       833.867489                                 3   \n",
       "152                       784.644410                                 5   \n",
       "4                         598.584238                                 4   \n",
       "\n",
       "     split0_test_neg_mean_absolute_percentage_error  \\\n",
       "114                                       -0.258502   \n",
       "107                                       -0.253778   \n",
       "146                                       -0.270201   \n",
       "152                                       -0.277439   \n",
       "4                                         -0.254268   \n",
       "\n",
       "     split1_test_neg_mean_absolute_percentage_error  \\\n",
       "114                                       -0.218523   \n",
       "107                                       -0.211444   \n",
       "146                                       -0.213442   \n",
       "152                                       -0.223525   \n",
       "4                                         -0.219554   \n",
       "\n",
       "     split2_test_neg_mean_absolute_percentage_error  \\\n",
       "114                                       -0.253825   \n",
       "107                                       -0.248771   \n",
       "146                                       -0.250813   \n",
       "152                                       -0.273900   \n",
       "4                                         -0.254266   \n",
       "\n",
       "     split3_test_neg_mean_absolute_percentage_error  \\\n",
       "114                                       -0.197819   \n",
       "107                                       -0.215882   \n",
       "146                                       -0.231239   \n",
       "152                                       -0.233226   \n",
       "4                                         -0.222024   \n",
       "\n",
       "     split4_test_neg_mean_absolute_percentage_error  \\\n",
       "114                                       -0.231250   \n",
       "107                                       -0.233681   \n",
       "146                                       -0.237871   \n",
       "152                                       -0.241060   \n",
       "4                                         -0.226847   \n",
       "\n",
       "     mean_test_neg_mean_absolute_percentage_error  \\\n",
       "114                                     -0.231984   \n",
       "107                                     -0.232711   \n",
       "146                                     -0.240713   \n",
       "152                                     -0.249830   \n",
       "4                                       -0.235392   \n",
       "\n",
       "     std_test_neg_mean_absolute_percentage_error  \\\n",
       "114                                     0.022491   \n",
       "107                                     0.016960   \n",
       "146                                     0.019042   \n",
       "152                                     0.021846   \n",
       "4                                       0.015589   \n",
       "\n",
       "     rank_test_neg_mean_absolute_percentage_error  \n",
       "114                                             1  \n",
       "107                                             2  \n",
       "146                                             4  \n",
       "152                                             5  \n",
       "4                                               3  \n",
       "\n",
       "[5 rows x 36 columns]"
      ]
     },
     "execution_count": 824,
     "metadata": {},
     "output_type": "execute_result"
    }
   ],
   "source": [
    "# Melihat hasil tuning dalam bentuk dataframe\n",
    "pd.DataFrame(rand_xgb.cv_results_).sort_values(by=['rank_test_neg_root_mean_squared_error', 'rank_test_neg_mean_absolute_error', 'rank_test_neg_mean_absolute_percentage_error']).head()"
   ]
  },
  {
   "cell_type": "code",
   "execution_count": 825,
   "id": "45385cc8",
   "metadata": {},
   "outputs": [
    {
     "name": "stdout",
     "output_type": "stream",
     "text": [
      "XGBoost\n",
      "Best_score: -17652.996626670585\n",
      "Best_params: {'model__subsample': 0.5, 'model__reg_alpha': 7, 'model__n_estimators': 138, 'model__max_depth': 7, 'model__learning_rate': 0.1, 'model__gamma': 8, 'model__colsample_bytree': 0.8}\n"
     ]
    }
   ],
   "source": [
    "# Cek skor dan params terbaik\n",
    "print('XGBoost')\n",
    "print('Best_score:', rand_xgb.best_score_)\n",
    "print('Best_params:', rand_xgb.best_params_)"
   ]
  },
  {
   "cell_type": "markdown",
   "id": "befed446",
   "metadata": {},
   "source": [
    "#### Predict to Test Set with the Tuned Model"
   ]
  },
  {
   "cell_type": "markdown",
   "id": "81cdb935",
   "metadata": {},
   "source": [
    "Melakukan prediksi pada test set dengan menggunakan model XGBoost dan hyperparameter terpilih."
   ]
  },
  {
   "cell_type": "code",
   "execution_count": 826,
   "id": "5ed0a037",
   "metadata": {},
   "outputs": [
    {
     "data": {
      "text/html": [
       "<div>\n",
       "<style scoped>\n",
       "    .dataframe tbody tr th:only-of-type {\n",
       "        vertical-align: middle;\n",
       "    }\n",
       "\n",
       "    .dataframe tbody tr th {\n",
       "        vertical-align: top;\n",
       "    }\n",
       "\n",
       "    .dataframe thead th {\n",
       "        text-align: right;\n",
       "    }\n",
       "</style>\n",
       "<table border=\"1\" class=\"dataframe\">\n",
       "  <thead>\n",
       "    <tr style=\"text-align: right;\">\n",
       "      <th></th>\n",
       "      <th>RMSE</th>\n",
       "      <th>MAE</th>\n",
       "      <th>MAPE</th>\n",
       "    </tr>\n",
       "  </thead>\n",
       "  <tbody>\n",
       "    <tr>\n",
       "      <th>XGB</th>\n",
       "      <td>16730.201485</td>\n",
       "      <td>11376.581088</td>\n",
       "      <td>0.22375</td>\n",
       "    </tr>\n",
       "  </tbody>\n",
       "</table>\n",
       "</div>"
      ],
      "text/plain": [
       "             RMSE           MAE     MAPE\n",
       "XGB  16730.201485  11376.581088  0.22375"
      ]
     },
     "execution_count": 826,
     "metadata": {},
     "output_type": "execute_result"
    }
   ],
   "source": [
    "# Model XGBoost\n",
    "model = {'XGB': XGBRegressor(random_state=2022)}\n",
    "\n",
    "# Define model terhadap estimator terbaik\n",
    "xgb_tuning = rand_xgb.best_estimator_\n",
    "\n",
    "# Fitting model\n",
    "xgb_tuning.fit(X_train, y_train)\n",
    "\n",
    "# Predict test set\n",
    "y_pred_xgb_tuning = xgb_tuning.predict(X_test)\n",
    "\n",
    "# Simpan nilai metrics RMSE, MAE & MAPE setelah tuning\n",
    "rmse_xgb_tuning = np.sqrt(mean_squared_error(y_test, y_pred_xgb_tuning))\n",
    "mae_xgb_tuning = mean_absolute_error(y_test, y_pred_xgb_tuning)\n",
    "mape_xgb_tuning = mean_absolute_percentage_error(y_test, y_pred_xgb_tuning)\n",
    "\n",
    "score_after_tuning = pd.DataFrame({'RMSE': rmse_xgb_tuning, 'MAE': mae_xgb_tuning, 'MAPE': mape_xgb_tuning}, index=model.keys())\n",
    "score_after_tuning"
   ]
  },
  {
   "cell_type": "markdown",
   "id": "73c2523a",
   "metadata": {},
   "source": [
    "#### Performance Comparison"
   ]
  },
  {
   "cell_type": "markdown",
   "id": "58d7ac4c",
   "metadata": {},
   "source": [
    "Perbandingan performa model XGBoost sebelum dan sesudah dilakukan hyperparameter tuning."
   ]
  },
  {
   "cell_type": "code",
   "execution_count": 827,
   "id": "b95f835f",
   "metadata": {},
   "outputs": [
    {
     "data": {
      "text/html": [
       "<div>\n",
       "<style scoped>\n",
       "    .dataframe tbody tr th:only-of-type {\n",
       "        vertical-align: middle;\n",
       "    }\n",
       "\n",
       "    .dataframe tbody tr th {\n",
       "        vertical-align: top;\n",
       "    }\n",
       "\n",
       "    .dataframe thead th {\n",
       "        text-align: right;\n",
       "    }\n",
       "</style>\n",
       "<table border=\"1\" class=\"dataframe\">\n",
       "  <thead>\n",
       "    <tr style=\"text-align: right;\">\n",
       "      <th></th>\n",
       "      <th>RMSE</th>\n",
       "      <th>MAE</th>\n",
       "      <th>MAPE</th>\n",
       "    </tr>\n",
       "  </thead>\n",
       "  <tbody>\n",
       "    <tr>\n",
       "      <th>XGB</th>\n",
       "      <td>17150.607233</td>\n",
       "      <td>11926.240799</td>\n",
       "      <td>0.234447</td>\n",
       "    </tr>\n",
       "  </tbody>\n",
       "</table>\n",
       "</div>"
      ],
      "text/plain": [
       "             RMSE           MAE      MAPE\n",
       "XGB  17150.607233  11926.240799  0.234447"
      ]
     },
     "execution_count": 827,
     "metadata": {},
     "output_type": "execute_result"
    }
   ],
   "source": [
    "# Sebelum hyperparameter tuning\n",
    "pd.DataFrame(score_before_tuning.loc['XGB']).T"
   ]
  },
  {
   "cell_type": "code",
   "execution_count": 828,
   "id": "20fbf639",
   "metadata": {},
   "outputs": [
    {
     "data": {
      "text/html": [
       "<div>\n",
       "<style scoped>\n",
       "    .dataframe tbody tr th:only-of-type {\n",
       "        vertical-align: middle;\n",
       "    }\n",
       "\n",
       "    .dataframe tbody tr th {\n",
       "        vertical-align: top;\n",
       "    }\n",
       "\n",
       "    .dataframe thead th {\n",
       "        text-align: right;\n",
       "    }\n",
       "</style>\n",
       "<table border=\"1\" class=\"dataframe\">\n",
       "  <thead>\n",
       "    <tr style=\"text-align: right;\">\n",
       "      <th></th>\n",
       "      <th>RMSE</th>\n",
       "      <th>MAE</th>\n",
       "      <th>MAPE</th>\n",
       "    </tr>\n",
       "  </thead>\n",
       "  <tbody>\n",
       "    <tr>\n",
       "      <th>XGB</th>\n",
       "      <td>16730.201485</td>\n",
       "      <td>11376.581088</td>\n",
       "      <td>0.22375</td>\n",
       "    </tr>\n",
       "  </tbody>\n",
       "</table>\n",
       "</div>"
      ],
      "text/plain": [
       "             RMSE           MAE     MAPE\n",
       "XGB  16730.201485  11376.581088  0.22375"
      ]
     },
     "execution_count": 828,
     "metadata": {},
     "output_type": "execute_result"
    }
   ],
   "source": [
    "# Setelah hyperparameter tuning\n",
    "score_after_tuning"
   ]
  },
  {
   "cell_type": "markdown",
   "id": "282d8558",
   "metadata": {},
   "source": [
    "Model mengalami peningkatan performa (nilai RMSE, MAE & MAPE berkurang) dengan dilakukannya hyperparameter tuning, walaupun hanya sedikit.\n",
    "1. RMSE, MAE & MAPE sebelum tuning: 17150.60, 11926.24, 0.234\n",
    "2. RMSE, MAE & MAPE setelah tuning: 16730.79, 11376.58, 0.223"
   ]
  },
  {
   "cell_type": "code",
   "execution_count": 829,
   "id": "37efff4c",
   "metadata": {},
   "outputs": [
    {
     "data": {
      "image/png": "[encoded data removed]",
      "text/plain": [
       "<Figure size 1008x576 with 1 Axes>"
      ]
     },
     "metadata": {
      "needs_background": "light"
     },
     "output_type": "display_data"
    }
   ],
   "source": [
    "plt.figure(figsize=(14, 8))\n",
    "plot = sns.scatterplot(x=y_test, y=y_pred_xgb_tuning).set(title='Actual vs. Prediction Price', \n",
    "                                               xlabel='Actual Price', \n",
    "                                               ylabel='Predicted Price');"
   ]
  },
  {
   "cell_type": "markdown",
   "id": "8f967c6e",
   "metadata": {},
   "source": [
    "Adanya nilai-nilai error yang besar membuat perbedaan yang cukup signifikan antara nilai RMSE dan MAE. Hal ini dapat tergambarkan pada plot di atas, di mana terdapat harga aktual yang rendah tapi diprediksi jauh lebih tinggi (overestimation), dan juga sebaliknya (underestimation). Akan tetapi, nilai MAPE yang didapat, yaitu sekitar 22% menjadikan model ini dapat dikategorikan ke dalam 'reasonable forecasting' (Lewis, 1982)."
   ]
  },
  {
   "cell_type": "markdown",
   "id": "1ed13991",
   "metadata": {},
   "source": [
    "Source: Lewis, C. D. (1982). Industrial and business forecasting methods: A practical guide to exponential smoothing and curve fitting"
   ]
  },
  {
   "cell_type": "markdown",
   "id": "c29bb2d0",
   "metadata": {},
   "source": [
    "#### Feature Importances"
   ]
  },
  {
   "cell_type": "markdown",
   "id": "71fc487b",
   "metadata": {},
   "source": [
    "Untuk dapat mengetahui sebenarnya fitur apa saja yang sangat memengaruhi target (price), kita dapat mengeceknya melalui function feature_importances_."
   ]
  },
  {
   "cell_type": "code",
   "execution_count": 833,
   "id": "1bd2e032",
   "metadata": {},
   "outputs": [
    {
     "data": {
      "image/png": "[encoded data removed]",
      "text/plain": [
       "<Figure size 1224x576 with 1 Axes>"
      ]
     },
     "metadata": {
      "needs_background": "light"
     },
     "output_type": "display_data"
    }
   ],
   "source": [
    "# Plot feature importances\n",
    "feature_imp = pd.Series(xgb_tuning['model'].feature_importances_, transformer.get_feature_names()).sort_values(ascending = False)\n",
    "feature_imp.plot(kind='barh', title='Feature Importances');"
   ]
  },
  {
   "cell_type": "markdown",
   "id": "76b6b69c",
   "metadata": {},
   "source": [
    "Berdasarkan hasil feature importance didapatkan beberapa parameter yang berpengaruh secara signifikan terhadap fitur 'Price' :\n",
    "1. Engine Size (CC Mobil)\n",
    "2. Year (Tahun Mobil)\n",
    "3. Options Value : Full (Sudah full modifikasi)"
   ]
  },
  {
   "cell_type": "markdown",
   "id": "4a7c6bca",
   "metadata": {},
   "source": [
    "### Conclusion"
   ]
  },
  {
   "cell_type": "markdown",
   "id": "cf09b51f",
   "metadata": {},
   "source": [
    "Berdasarkan pemodelan yang sudah dilakukan, fitur 'Engine_Size' dan 'Year' menjadi fitur yang paling berpengaruh terhadap 'Price'.\n",
    "\n",
    "Metrik evaluasi yang digunakan pada model adalah nilai RMSE, MAE & MAPE. Jika ditinjau dari nilai RMSE yang dihasilkan oleh model setelah dilakukan hyperparameter tuning, yaitu sebesar 16.730,79 dari rentang data 'Price' dengan nilai minimum 11.000, nilai maksimum 181.250, delta nilai price (nilai maksimum - nilai minimum) 170.250, maka presentase RMSE terhadap rentang data sebesar 9,8%. Sedangkan jika dilihat dari nilai MAPE didapatkan performa dengan nilai 22% dimana model dapat dikategorikan kedalam 'reasonable forecasting'.\n",
    "\n",
    "Dapat disimpulkan bahwa bila nanti model yang ini digunakan untuk memperkirakan harga mobil pada rentang nilai seperti yang dilatih terhadap model (nilai limitasi model : min_price = 11.000 dan max_price = 170.250), maka perkiraan harga rata-rata akan meleset kurang lebih sebesar 16.730,79 atau sebesar 9,8% dari harga yang mungkin seharusnya. Tetapi tidak menutup kemungkinan juga prediksinya meleset lebih jauh karena bias yang dihasilkan model masih cukup tinggi bila dilihat dari visualisasi antara harga aktual dan prediksi. Bias yang dihasilkan oleh model ini dikarenakan oleh kurangnya fitur pada dataset yang bisa lebih merepresentasikan aspek kondisi mobil seperti apakah pernah terjadi kendala pada mesin (turun mesin), apakah pernah mengalami kecelakaan, jika iya seberapa parah pernah mengalami kecelakaan, garansi mobil, dll."
   ]
  },
  {
   "cell_type": "markdown",
   "id": "6ecf9db3",
   "metadata": {},
   "source": [
    "Dengan adanya limitasi rentang nilai dalam model yang dilatih maka model dapat dipercaya jika rentang nilai mobil yang akan diperdiksi masuk dalam range limitasi nilai tersebut dan terdapat nilai dari fitur yang digunakan dalam model yang telah dilatih (tidak ada data missing value) seperti fitur engine_size, mileage, year, merk mobil, dll sesuai clean dataset yang digunakan dalam model. Jika terdapat nilai rentang mobil diluar dari range limitasi nilai dan terdapat missing value pada beberapa fitur yang telah dilatih dalam model maka hasil prediksi model dapat dikatakan tidak dapat dipercaya."
   ]
  },
  {
   "cell_type": "markdown",
   "id": "3884bf7a",
   "metadata": {},
   "source": [
    "### Recommendation"
   ]
  },
  {
   "cell_type": "markdown",
   "id": "de8e830b",
   "metadata": {},
   "source": [
    "Hal-hal yang dapat dilakukan untuk mengembangkan model agar lebih baik lagi, seperti:\n",
    "1. Melakukan pengecekan dan pengelompokkan atas fitur - fitur mana saja yang memberikan error yang tinggi terhadap target 'Price' sehingga kita dapat melakukan feature engineering yang lebih baik terlebih dahulu terhadap fitur tersebut agar dapat meningkatkan performa model.\n",
    "2. Melakukan penambahan data dari yang ada saat ini sejumlah 3.429 menjadi lebih banyak atau sekitar > 5.000 sesuai dataset awal yang terdapat missing value dan outlier. Sehingga model mendapatkan banyak refrensi data yang dipelajari. Penambahan data dapat dilakukan dengan melakukan update data terbaru atau memperbaiki data mentah yang terdapat missing value.\n",
    "3. Jika memungkinkan, penambahan fitur yang lebih korelatif dengan target ('Price'), seperti kondisi mobil, garansi mobil dan after sales service. \n",
    "4. Jika ada penambahan banyak data, dapat dicoba dengan menggunakan model yang lebih kompleks, seperti recursive neural networks (RNN).\n",
    "5. Selanjutnya kedepan dari model ini dapat dijadikan sebagai dasar pengembangan untuk model lainnya seperti model untuk mengklasifikasikan jenis pelanggan terhadap spesifikasi dan harga mobil. Model tersebut bermanfaat sebagai dasar perencanaan biaya marketing strategy agar dapat optimal terhadap peningkatan pendapatan perusahaan dari jual - beli mobil. "
   ]
  },
  {
   "cell_type": "markdown",
   "id": "e75b0111",
   "metadata": {},
   "source": [
    "### Save Model"
   ]
  },
  {
   "cell_type": "code",
   "execution_count": 835,
   "id": "a9565850",
   "metadata": {},
   "outputs": [],
   "source": [
    "# Import Library Pickle\n",
    "import pickle"
   ]
  },
  {
   "cell_type": "code",
   "execution_count": 836,
   "id": "02aa0eff",
   "metadata": {},
   "outputs": [],
   "source": [
    "# Save model\n",
    "\n",
    "xgb_tuning.fit(X_train, y_train)\n",
    "\n",
    "pickle.dump(xgb_tuning, open('Model_Saudi_Arabia_Used_Cars_XGB.sav', 'wb'))"
   ]
  },
  {
   "cell_type": "code",
   "execution_count": 837,
   "id": "b34fa8f6",
   "metadata": {},
   "outputs": [],
   "source": [
    "# Load model\n",
    "filename = 'Model_Saudi_Arabia_Used_Cars_XGB.sav'\n",
    "loaded_model = pickle.load(open(filename, 'rb'))"
   ]
  },
  {
   "cell_type": "code",
   "execution_count": 838,
   "id": "e3d4e964",
   "metadata": {},
   "outputs": [
    {
     "data": {
      "text/plain": [
       "16730.20148539496"
      ]
     },
     "execution_count": 838,
     "metadata": {},
     "output_type": "execute_result"
    }
   ],
   "source": [
    "np.sqrt(mean_squared_error(y_test, loaded_model.predict(X_test)))"
   ]
  },
  {
   "cell_type": "markdown",
   "id": "79532728",
   "metadata": {},
   "source": [
    "Model disimpan menggunakan pickle dan telah berhasil tersimpan dengan pengujian menggunakan data y_test mengukur hasil RMSEnya."
   ]
  }
 ],
 "metadata": {
  "kernelspec": {
   "display_name": "Python 3",
   "language": "python",
   "name": "python3"
  },
  "language_info": {
   "codemirror_mode": {
    "name": "ipython",
    "version": 3
   },
   "file_extension": ".py",
   "mimetype": "text/x-python",
   "name": "python",
   "nbconvert_exporter": "python",
   "pygments_lexer": "ipython3",
   "version": "3.8.8"
  }
 },
 "nbformat": 4,
 "nbformat_minor": 5
}
